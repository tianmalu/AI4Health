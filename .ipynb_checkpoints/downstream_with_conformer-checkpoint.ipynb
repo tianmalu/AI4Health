{
 "cells": [
  {
   "cell_type": "markdown",
   "id": "b6b11049",
   "metadata": {},
   "source": [
    "# Downstream Training with espnet\n"
   ]
  },
  {
   "cell_type": "markdown",
   "id": "6d8a3d07",
   "metadata": {},
   "source": [
    "## Load Ground Truth"
   ]
  },
  {
   "cell_type": "code",
   "execution_count": 1,
   "id": "dd03e27a",
   "metadata": {},
   "outputs": [
    {
     "name": "stderr",
     "output_type": "stream",
     "text": [
      "Loading labels: 100%|██████████| 19101/19101 [00:00<00:00, 3807042.42it/s]\n"
     ]
    }
   ],
   "source": [
    "import csv\n",
    "from tqdm import tqdm\n",
    "\n",
    "label_dict = {}\n",
    "with open(\"ComParE2017_Cold_4students/lab/ComParE2017_Cold.tsv\", \"r\", encoding=\"utf-8\") as f:\n",
    "    reader = csv.DictReader(f, delimiter=\"\\t\")\n",
    "    rows = list(reader)\n",
    "    for row in tqdm(rows, desc=\"Loading labels\"):\n",
    "        label_dict[row[\"file_name\"]] = row[\"Cold (upper respiratory tract infection)\"]\n"
   ]
  },
  {
   "cell_type": "markdown",
   "id": "a2469ba2",
   "metadata": {},
   "source": [
    "## Import espnet "
   ]
  },
  {
   "cell_type": "code",
   "execution_count": 5,
   "id": "2be72e91",
   "metadata": {},
   "outputs": [
    {
     "name": "stdout",
     "output_type": "stream",
     "text": [
      "Defaulting to user installation because normal site-packages is not writeable\n",
      "Requirement already satisfied: librosa in /home/tianmalu/.local/lib/python3.10/site-packages (0.9.2)\n",
      "Requirement already satisfied: espnet in /home/tianmalu/.local/lib/python3.10/site-packages (202412)\n",
      "Requirement already satisfied: espnet_model_zoo in /home/tianmalu/.local/lib/python3.10/site-packages (0.1.7)\n",
      "Collecting torchaudio\n",
      "  Downloading torchaudio-2.7.0-cp310-cp310-manylinux_2_28_x86_64.whl.metadata (6.6 kB)\n",
      "Requirement already satisfied: audioread>=2.1.9 in /home/tianmalu/.local/lib/python3.10/site-packages (from librosa) (3.0.1)\n",
      "Requirement already satisfied: numpy>=1.17.0 in /home/tianmalu/.local/lib/python3.10/site-packages (from librosa) (1.23.5)\n",
      "Requirement already satisfied: scipy>=1.2.0 in /home/tianmalu/.local/lib/python3.10/site-packages (from librosa) (1.13.0)\n",
      "Requirement already satisfied: scikit-learn>=0.19.1 in /home/tianmalu/.local/lib/python3.10/site-packages (from librosa) (1.6.1)\n",
      "Requirement already satisfied: joblib>=0.14 in /home/tianmalu/.local/lib/python3.10/site-packages (from librosa) (1.4.2)\n",
      "Requirement already satisfied: decorator>=4.0.10 in /home/tianmalu/.local/lib/python3.10/site-packages (from librosa) (5.1.1)\n",
      "Requirement already satisfied: resampy>=0.2.2 in /home/tianmalu/.local/lib/python3.10/site-packages (from librosa) (0.4.3)\n",
      "Requirement already satisfied: numba>=0.45.1 in /home/tianmalu/.local/lib/python3.10/site-packages (from librosa) (0.60.0)\n",
      "Requirement already satisfied: soundfile>=0.10.2 in /home/tianmalu/.local/lib/python3.10/site-packages (from librosa) (0.13.1)\n",
      "Requirement already satisfied: pooch>=1.0 in /home/tianmalu/.local/lib/python3.10/site-packages (from librosa) (1.8.2)\n",
      "Requirement already satisfied: packaging>=20.0 in /home/tianmalu/.local/lib/python3.10/site-packages (from librosa) (24.2)\n",
      "Requirement already satisfied: setuptools<74.0.0,>=38.5.1 in /usr/lib/python3/dist-packages (from espnet) (59.6.0)\n",
      "Requirement already satisfied: configargparse>=1.2.1 in /home/tianmalu/.local/lib/python3.10/site-packages (from espnet) (1.7)\n",
      "Requirement already satisfied: typeguard in /home/tianmalu/.local/lib/python3.10/site-packages (from espnet) (4.4.2)\n",
      "Requirement already satisfied: humanfriendly in /home/tianmalu/.local/lib/python3.10/site-packages (from espnet) (10.0)\n",
      "Requirement already satisfied: filelock in /home/tianmalu/.local/lib/python3.10/site-packages (from espnet) (3.16.1)\n",
      "Requirement already satisfied: jamo==0.4.1 in /home/tianmalu/.local/lib/python3.10/site-packages (from espnet) (0.4.1)\n",
      "Requirement already satisfied: PyYAML>=5.1.2 in /usr/lib/python3/dist-packages (from espnet) (5.4.1)\n",
      "Requirement already satisfied: h5py>=2.10.0 in /home/tianmalu/.local/lib/python3.10/site-packages (from espnet) (3.13.0)\n",
      "Requirement already satisfied: kaldiio>=2.18.0 in /home/tianmalu/.local/lib/python3.10/site-packages (from espnet) (2.18.1)\n",
      "Requirement already satisfied: torch>=1.11.0 in /home/tianmalu/.local/lib/python3.10/site-packages (from espnet) (2.7.0)\n",
      "Requirement already satisfied: torch-complex in /home/tianmalu/.local/lib/python3.10/site-packages (from espnet) (0.4.4)\n",
      "Requirement already satisfied: nltk>=3.4.5 in /home/tianmalu/.local/lib/python3.10/site-packages (from espnet) (3.9.1)\n",
      "Requirement already satisfied: protobuf in /home/tianmalu/.local/lib/python3.10/site-packages (from espnet) (5.29.4)\n",
      "Requirement already satisfied: hydra-core in /home/tianmalu/.local/lib/python3.10/site-packages (from espnet) (1.3.2)\n",
      "Requirement already satisfied: opt-einsum in /home/tianmalu/.local/lib/python3.10/site-packages (from espnet) (3.4.0)\n",
      "Requirement already satisfied: sentencepiece==0.1.97 in /home/tianmalu/.local/lib/python3.10/site-packages (from espnet) (0.1.97)\n",
      "Requirement already satisfied: ctc-segmentation>=1.6.6 in /home/tianmalu/.local/lib/python3.10/site-packages (from espnet) (1.7.4)\n",
      "Requirement already satisfied: pyworld>=0.3.4 in /home/tianmalu/.local/lib/python3.10/site-packages (from espnet) (0.3.5)\n",
      "Requirement already satisfied: pypinyin<=0.44.0 in /home/tianmalu/.local/lib/python3.10/site-packages (from espnet) (0.44.0)\n",
      "Requirement already satisfied: espnet-tts-frontend in /home/tianmalu/.local/lib/python3.10/site-packages (from espnet) (0.0.3)\n",
      "Requirement already satisfied: ci-sdr in /home/tianmalu/.local/lib/python3.10/site-packages (from espnet) (0.0.2)\n",
      "Requirement already satisfied: fast-bss-eval==0.1.3 in /home/tianmalu/.local/lib/python3.10/site-packages (from espnet) (0.1.3)\n",
      "Requirement already satisfied: asteroid-filterbanks==0.4.0 in /home/tianmalu/.local/lib/python3.10/site-packages (from espnet) (0.4.0)\n",
      "Requirement already satisfied: editdistance in /home/tianmalu/.local/lib/python3.10/site-packages (from espnet) (0.8.1)\n",
      "Requirement already satisfied: importlib-metadata<5.0 in /usr/lib/python3/dist-packages (from espnet) (4.6.4)\n",
      "Requirement already satisfied: typing-extensions in /home/tianmalu/.local/lib/python3.10/site-packages (from asteroid-filterbanks==0.4.0->espnet) (4.12.2)\n",
      "Requirement already satisfied: pandas in /home/tianmalu/.local/lib/python3.10/site-packages (from espnet_model_zoo) (2.2.2)\n",
      "Requirement already satisfied: requests in /home/tianmalu/.local/lib/python3.10/site-packages (from espnet_model_zoo) (2.32.3)\n",
      "Requirement already satisfied: tqdm in /home/tianmalu/.local/lib/python3.10/site-packages (from espnet_model_zoo) (4.67.0)\n",
      "Requirement already satisfied: huggingface-hub in /home/tianmalu/.local/lib/python3.10/site-packages (from espnet_model_zoo) (0.26.2)\n",
      "Requirement already satisfied: sympy>=1.13.3 in /home/tianmalu/.local/lib/python3.10/site-packages (from torch>=1.11.0->espnet) (1.14.0)\n",
      "Requirement already satisfied: networkx in /home/tianmalu/.local/lib/python3.10/site-packages (from torch>=1.11.0->espnet) (3.4.2)\n",
      "Requirement already satisfied: jinja2 in /home/tianmalu/.local/lib/python3.10/site-packages (from torch>=1.11.0->espnet) (3.1.4)\n",
      "Requirement already satisfied: fsspec in /home/tianmalu/.local/lib/python3.10/site-packages (from torch>=1.11.0->espnet) (2024.10.0)\n",
      "Requirement already satisfied: nvidia-cuda-nvrtc-cu12==12.6.77 in /home/tianmalu/.local/lib/python3.10/site-packages (from torch>=1.11.0->espnet) (12.6.77)\n",
      "Requirement already satisfied: nvidia-cuda-runtime-cu12==12.6.77 in /home/tianmalu/.local/lib/python3.10/site-packages (from torch>=1.11.0->espnet) (12.6.77)\n",
      "Requirement already satisfied: nvidia-cuda-cupti-cu12==12.6.80 in /home/tianmalu/.local/lib/python3.10/site-packages (from torch>=1.11.0->espnet) (12.6.80)\n",
      "Requirement already satisfied: nvidia-cudnn-cu12==9.5.1.17 in /home/tianmalu/.local/lib/python3.10/site-packages (from torch>=1.11.0->espnet) (9.5.1.17)\n",
      "Requirement already satisfied: nvidia-cublas-cu12==12.6.4.1 in /home/tianmalu/.local/lib/python3.10/site-packages (from torch>=1.11.0->espnet) (12.6.4.1)\n",
      "Requirement already satisfied: nvidia-cufft-cu12==11.3.0.4 in /home/tianmalu/.local/lib/python3.10/site-packages (from torch>=1.11.0->espnet) (11.3.0.4)\n",
      "Requirement already satisfied: nvidia-curand-cu12==10.3.7.77 in /home/tianmalu/.local/lib/python3.10/site-packages (from torch>=1.11.0->espnet) (10.3.7.77)\n",
      "Requirement already satisfied: nvidia-cusolver-cu12==11.7.1.2 in /home/tianmalu/.local/lib/python3.10/site-packages (from torch>=1.11.0->espnet) (11.7.1.2)\n",
      "Requirement already satisfied: nvidia-cusparse-cu12==12.5.4.2 in /home/tianmalu/.local/lib/python3.10/site-packages (from torch>=1.11.0->espnet) (12.5.4.2)\n",
      "Requirement already satisfied: nvidia-cusparselt-cu12==0.6.3 in /home/tianmalu/.local/lib/python3.10/site-packages (from torch>=1.11.0->espnet) (0.6.3)\n",
      "Requirement already satisfied: nvidia-nccl-cu12==2.26.2 in /home/tianmalu/.local/lib/python3.10/site-packages (from torch>=1.11.0->espnet) (2.26.2)\n",
      "Requirement already satisfied: nvidia-nvtx-cu12==12.6.77 in /home/tianmalu/.local/lib/python3.10/site-packages (from torch>=1.11.0->espnet) (12.6.77)\n",
      "Requirement already satisfied: nvidia-nvjitlink-cu12==12.6.85 in /home/tianmalu/.local/lib/python3.10/site-packages (from torch>=1.11.0->espnet) (12.6.85)\n",
      "Requirement already satisfied: nvidia-cufile-cu12==1.11.1.6 in /home/tianmalu/.local/lib/python3.10/site-packages (from torch>=1.11.0->espnet) (1.11.1.6)\n",
      "Requirement already satisfied: triton==3.3.0 in /home/tianmalu/.local/lib/python3.10/site-packages (from torch>=1.11.0->espnet) (3.3.0)\n",
      "Requirement already satisfied: Cython in /home/tianmalu/.local/lib/python3.10/site-packages (from ctc-segmentation>=1.6.6->espnet) (3.1.1)\n",
      "Requirement already satisfied: click in /home/tianmalu/.local/lib/python3.10/site-packages (from nltk>=3.4.5->espnet) (8.1.3)\n",
      "Requirement already satisfied: regex>=2021.8.3 in /home/tianmalu/.local/lib/python3.10/site-packages (from nltk>=3.4.5->espnet) (2024.11.6)\n",
      "Requirement already satisfied: llvmlite<0.44,>=0.43.0dev0 in /home/tianmalu/.local/lib/python3.10/site-packages (from numba>=0.45.1->librosa) (0.43.0)\n",
      "Requirement already satisfied: platformdirs>=2.5.0 in /home/tianmalu/.local/lib/python3.10/site-packages (from pooch>=1.0->librosa) (4.3.6)\n",
      "Requirement already satisfied: charset-normalizer<4,>=2 in /home/tianmalu/.local/lib/python3.10/site-packages (from requests->espnet_model_zoo) (2.0.12)\n",
      "Requirement already satisfied: idna<4,>=2.5 in /home/tianmalu/.local/lib/python3.10/site-packages (from requests->espnet_model_zoo) (3.3)\n",
      "Requirement already satisfied: urllib3<3,>=1.21.1 in /home/tianmalu/.local/lib/python3.10/site-packages (from requests->espnet_model_zoo) (1.26.9)\n",
      "Requirement already satisfied: certifi>=2017.4.17 in /home/tianmalu/.local/lib/python3.10/site-packages (from requests->espnet_model_zoo) (2025.4.26)\n",
      "Requirement already satisfied: threadpoolctl>=3.1.0 in /home/tianmalu/.local/lib/python3.10/site-packages (from scikit-learn>=0.19.1->librosa) (3.5.0)\n",
      "Requirement already satisfied: cffi>=1.0 in /home/tianmalu/.local/lib/python3.10/site-packages (from soundfile>=0.10.2->librosa) (1.17.1)\n",
      "Requirement already satisfied: pycparser in /home/tianmalu/.local/lib/python3.10/site-packages (from cffi>=1.0->soundfile>=0.10.2->librosa) (2.22)\n",
      "Requirement already satisfied: mpmath<1.4,>=1.1.0 in /home/tianmalu/.local/lib/python3.10/site-packages (from sympy>=1.13.3->torch>=1.11.0->espnet) (1.3.0)\n",
      "Requirement already satisfied: einops in /home/tianmalu/.local/lib/python3.10/site-packages (from ci-sdr->espnet) (0.8.1)\n",
      "Requirement already satisfied: unidecode>=1.0.22 in /home/tianmalu/.local/lib/python3.10/site-packages (from espnet-tts-frontend->espnet) (1.4.0)\n",
      "Requirement already satisfied: inflect>=1.0.0 in /home/tianmalu/.local/lib/python3.10/site-packages (from espnet-tts-frontend->espnet) (7.5.0)\n",
      "Requirement already satisfied: jaconv in /home/tianmalu/.local/lib/python3.10/site-packages (from espnet-tts-frontend->espnet) (0.4.0)\n",
      "Requirement already satisfied: g2p-en in /home/tianmalu/.local/lib/python3.10/site-packages (from espnet-tts-frontend->espnet) (2.1.0)\n",
      "Requirement already satisfied: more_itertools>=8.5.0 in /usr/lib/python3/dist-packages (from inflect>=1.0.0->espnet-tts-frontend->espnet) (8.10.0)\n",
      "Requirement already satisfied: distance>=0.1.3 in /home/tianmalu/.local/lib/python3.10/site-packages (from g2p-en->espnet-tts-frontend->espnet) (0.1.3)\n",
      "Requirement already satisfied: omegaconf<2.4,>=2.2 in /home/tianmalu/.local/lib/python3.10/site-packages (from hydra-core->espnet) (2.3.0)\n",
      "Requirement already satisfied: antlr4-python3-runtime==4.9.* in /home/tianmalu/.local/lib/python3.10/site-packages (from hydra-core->espnet) (4.9.3)\n",
      "Requirement already satisfied: MarkupSafe>=2.0 in /home/tianmalu/.local/lib/python3.10/site-packages (from jinja2->torch>=1.11.0->espnet) (3.0.2)\n",
      "Requirement already satisfied: python-dateutil>=2.8.2 in /home/tianmalu/.local/lib/python3.10/site-packages (from pandas->espnet_model_zoo) (2.9.0.post0)\n",
      "Requirement already satisfied: pytz>=2020.1 in /home/tianmalu/.local/lib/python3.10/site-packages (from pandas->espnet_model_zoo) (2024.1)\n",
      "Requirement already satisfied: tzdata>=2022.7 in /home/tianmalu/.local/lib/python3.10/site-packages (from pandas->espnet_model_zoo) (2024.1)\n",
      "Requirement already satisfied: six>=1.5 in /usr/lib/python3/dist-packages (from python-dateutil>=2.8.2->pandas->espnet_model_zoo) (1.16.0)\n",
      "Downloading torchaudio-2.7.0-cp310-cp310-manylinux_2_28_x86_64.whl (3.4 MB)\n",
      "\u001b[2K   \u001b[90m━━━━━━━━━━━━━━━━━━━━━━━━━━━━━━━━━━━━━━━━\u001b[0m \u001b[32m3.4/3.4 MB\u001b[0m \u001b[31m13.4 MB/s\u001b[0m eta \u001b[36m0:00:00\u001b[0ma \u001b[36m0:00:01\u001b[0m\n",
      "\u001b[?25hInstalling collected packages: torchaudio\n",
      "Successfully installed torchaudio-2.7.0\n"
     ]
    }
   ],
   "source": [
    "!pip install librosa espnet espnet_model_zoo torchaudio\n"
   ]
  },
  {
   "cell_type": "code",
   "execution_count": 8,
   "id": "9ca39d88-369a-4d74-bbae-eb3003dc9e96",
   "metadata": {},
   "outputs": [
    {
     "ename": "FileNotFoundError",
     "evalue": "[Errno 2] No such file or directory: 'https:/huggingface.co/espnet/owsm_v4_small_370M/resolve/main/config.yaml'",
     "output_type": "error",
     "traceback": [
      "\u001b[0;31m---------------------------------------------------------------------------\u001b[0m",
      "\u001b[0;31mFileNotFoundError\u001b[0m                         Traceback (most recent call last)",
      "Cell \u001b[0;32mIn[8], line 9\u001b[0m\n\u001b[1;32m      6\u001b[0m model_file \u001b[38;5;241m=\u001b[39m \u001b[38;5;124m\"\u001b[39m\u001b[38;5;124mhttps://huggingface.co/espnet/owsm_v4_small_370M/resolve/main/pytorch_model.pth\u001b[39m\u001b[38;5;124m\"\u001b[39m\n\u001b[1;32m      8\u001b[0m \u001b[38;5;66;03m# 2. 构建模型\u001b[39;00m\n\u001b[0;32m----> 9\u001b[0m model, train_args \u001b[38;5;241m=\u001b[39m \u001b[43mASRTask\u001b[49m\u001b[38;5;241;43m.\u001b[39;49m\u001b[43mbuild_model_from_file\u001b[49m\u001b[43m(\u001b[49m\u001b[43mconfig_file\u001b[49m\u001b[43m,\u001b[49m\u001b[43m \u001b[49m\u001b[43mmodel_file\u001b[49m\u001b[43m)\u001b[49m\n\u001b[1;32m     10\u001b[0m encoder \u001b[38;5;241m=\u001b[39m model\u001b[38;5;241m.\u001b[39mencoder\n\u001b[1;32m     11\u001b[0m encoder\u001b[38;5;241m.\u001b[39meval()\n",
      "File \u001b[0;32m~/.local/lib/python3.10/site-packages/espnet2/tasks/abs_task.py:2298\u001b[0m, in \u001b[0;36mAbsTask.build_model_from_file\u001b[0;34m(cls, config_file, model_file, device)\u001b[0m\n\u001b[1;32m   2295\u001b[0m     config_file \u001b[38;5;241m=\u001b[39m Path(config_file)\n\u001b[1;32m   2297\u001b[0m logging\u001b[38;5;241m.\u001b[39minfo(\u001b[38;5;124m\"\u001b[39m\u001b[38;5;124mconfig file: \u001b[39m\u001b[38;5;132;01m{}\u001b[39;00m\u001b[38;5;124m\"\u001b[39m\u001b[38;5;241m.\u001b[39mformat(config_file))\n\u001b[0;32m-> 2298\u001b[0m \u001b[38;5;28;01mwith\u001b[39;00m config_file\u001b[38;5;241m.\u001b[39mopen(\u001b[38;5;124m\"\u001b[39m\u001b[38;5;124mr\u001b[39m\u001b[38;5;124m\"\u001b[39m, encoding\u001b[38;5;241m=\u001b[39m\u001b[38;5;124m\"\u001b[39m\u001b[38;5;124mutf-8\u001b[39m\u001b[38;5;124m\"\u001b[39m) \u001b[38;5;28;01mas\u001b[39;00m f:\n\u001b[1;32m   2299\u001b[0m     args \u001b[38;5;241m=\u001b[39m yaml\u001b[38;5;241m.\u001b[39msafe_load(f)\n\u001b[1;32m   2300\u001b[0m args \u001b[38;5;241m=\u001b[39m argparse\u001b[38;5;241m.\u001b[39mNamespace(\u001b[38;5;241m*\u001b[39m\u001b[38;5;241m*\u001b[39margs)\n",
      "File \u001b[0;32m/usr/lib/python3.10/pathlib.py:1119\u001b[0m, in \u001b[0;36mPath.open\u001b[0;34m(self, mode, buffering, encoding, errors, newline)\u001b[0m\n\u001b[1;32m   1117\u001b[0m \u001b[38;5;28;01mif\u001b[39;00m \u001b[38;5;124m\"\u001b[39m\u001b[38;5;124mb\u001b[39m\u001b[38;5;124m\"\u001b[39m \u001b[38;5;129;01mnot\u001b[39;00m \u001b[38;5;129;01min\u001b[39;00m mode:\n\u001b[1;32m   1118\u001b[0m     encoding \u001b[38;5;241m=\u001b[39m io\u001b[38;5;241m.\u001b[39mtext_encoding(encoding)\n\u001b[0;32m-> 1119\u001b[0m \u001b[38;5;28;01mreturn\u001b[39;00m \u001b[38;5;28;43mself\u001b[39;49m\u001b[38;5;241;43m.\u001b[39;49m\u001b[43m_accessor\u001b[49m\u001b[38;5;241;43m.\u001b[39;49m\u001b[43mopen\u001b[49m\u001b[43m(\u001b[49m\u001b[38;5;28;43mself\u001b[39;49m\u001b[43m,\u001b[49m\u001b[43m \u001b[49m\u001b[43mmode\u001b[49m\u001b[43m,\u001b[49m\u001b[43m \u001b[49m\u001b[43mbuffering\u001b[49m\u001b[43m,\u001b[49m\u001b[43m \u001b[49m\u001b[43mencoding\u001b[49m\u001b[43m,\u001b[49m\u001b[43m \u001b[49m\u001b[43merrors\u001b[49m\u001b[43m,\u001b[49m\n\u001b[1;32m   1120\u001b[0m \u001b[43m                           \u001b[49m\u001b[43mnewline\u001b[49m\u001b[43m)\u001b[49m\n",
      "\u001b[0;31mFileNotFoundError\u001b[0m: [Errno 2] No such file or directory: 'https:/huggingface.co/espnet/owsm_v4_small_370M/resolve/main/config.yaml'"
     ]
    }
   ],
   "source": [
    "from espnet2.bin.asr_inference import Speech2Text\n",
    "import os\n",
    "\n",
    "model = Speech2Text.from_pretrained(\n",
    "  \"espnet/owsm_v4_small_370M\"\n",
    ")\n"
   ]
  },
  {
   "cell_type": "code",
   "execution_count": null,
   "id": "be09d64b-324b-446d-b186-f2f20dd9c500",
   "metadata": {},
   "outputs": [],
   "source": [
    "file_path = \"ppl_dataset\"\n",
    "data_split = [\"train\", \"test\", \"val\"]\n",
    "sound_list = os.listdir(os.path.join(file_path, data_split[0]))\n",
    "speech, rate = soundfile.read(sound_list[0])\n",
    "text, *_ = model(speech)[0]"
   ]
  }
 ],
 "metadata": {
  "kernelspec": {
   "display_name": "Python 3 (ipykernel)",
   "language": "python",
   "name": "python3"
  },
  "language_info": {
   "codemirror_mode": {
    "name": "ipython",
    "version": 3
   },
   "file_extension": ".py",
   "mimetype": "text/x-python",
   "name": "python",
   "nbconvert_exporter": "python",
   "pygments_lexer": "ipython3",
   "version": "3.10.12"
  }
 },
 "nbformat": 4,
 "nbformat_minor": 5
}
