{
 "cells": [
  {
   "cell_type": "markdown",
   "metadata": {},
   "source": [
    "# Downstream Training "
   ]
  },
  {
   "cell_type": "markdown",
   "metadata": {},
   "source": [
    "## Load Ground Truth"
   ]
  },
  {
   "cell_type": "code",
   "execution_count": 3,
   "metadata": {},
   "outputs": [
    {
     "name": "stderr",
     "output_type": "stream",
     "text": [
      "Loading labels: 100%|██████████| 19101/19101 [00:00<00:00, 3816472.98it/s]\n"
     ]
    }
   ],
   "source": [
    "import csv\n",
    "from tqdm import tqdm\n",
    "\n",
    "label_dict = {}\n",
    "with open(\"ComParE2017_Cold_4students/lab/ComParE2017_Cold.tsv\", \"r\", encoding=\"utf-8\") as f:\n",
    "    reader = csv.DictReader(f, delimiter=\"\\t\")\n",
    "    rows = list(reader)\n",
    "    for row in tqdm(rows, desc=\"Loading labels\"):\n",
    "        label_dict[row[\"file_name\"]] = row[\"Cold (upper respiratory tract infection)\"]\n"
   ]
  },
  {
   "cell_type": "markdown",
   "metadata": {},
   "source": [
    "## Import Sound Model from Huggingface"
   ]
  },
  {
   "cell_type": "markdown",
   "metadata": {},
   "source": [
    "### Wav2vec\n",
    "Huggingface: https://huggingface.co/facebook/wav2vec2-base-960h"
   ]
  },
  {
   "cell_type": "code",
   "execution_count": 13,
   "metadata": {},
   "outputs": [
    {
     "name": "stderr",
     "output_type": "stream",
     "text": [
      "c:\\Python312\\Lib\\site-packages\\tqdm\\auto.py:21: TqdmWarning: IProgress not found. Please update jupyter and ipywidgets. See https://ipywidgets.readthedocs.io/en/stable/user_install.html\n",
      "  from .autonotebook import tqdm as notebook_tqdm\n",
      "Some weights of Wav2Vec2ForCTC were not initialized from the model checkpoint at facebook/wav2vec2-base-960h and are newly initialized: ['wav2vec2.masked_spec_embed']\n",
      "You should probably TRAIN this model on a down-stream task to be able to use it for predictions and inference.\n",
      "Hardware accelerator e.g. GPU is available in the environment, but no `device` argument is passed to the `Pipeline` object. Model will be on CPU.\n"
     ]
    }
   ],
   "source": [
    "# Use a pipeline as a high-level helper\n",
    "from transformers import pipeline\n",
    "\n",
    "pipe = pipeline(\"automatic-speech-recognition\", model=\"facebook/wav2vec2-base-960h\")"
   ]
  },
  {
   "cell_type": "code",
   "execution_count": 14,
   "metadata": {},
   "outputs": [
    {
     "name": "stderr",
     "output_type": "stream",
     "text": [
      "Some weights of Wav2Vec2Model were not initialized from the model checkpoint at facebook/wav2vec2-base-960h and are newly initialized: ['wav2vec2.masked_spec_embed']\n",
      "You should probably TRAIN this model on a down-stream task to be able to use it for predictions and inference.\n"
     ]
    },
    {
     "data": {
      "text/plain": [
       "Wav2Vec2Model(\n",
       "  (feature_extractor): Wav2Vec2FeatureEncoder(\n",
       "    (conv_layers): ModuleList(\n",
       "      (0): Wav2Vec2GroupNormConvLayer(\n",
       "        (conv): Conv1d(1, 512, kernel_size=(10,), stride=(5,), bias=False)\n",
       "        (activation): GELUActivation()\n",
       "        (layer_norm): GroupNorm(512, 512, eps=1e-05, affine=True)\n",
       "      )\n",
       "      (1-4): 4 x Wav2Vec2NoLayerNormConvLayer(\n",
       "        (conv): Conv1d(512, 512, kernel_size=(3,), stride=(2,), bias=False)\n",
       "        (activation): GELUActivation()\n",
       "      )\n",
       "      (5-6): 2 x Wav2Vec2NoLayerNormConvLayer(\n",
       "        (conv): Conv1d(512, 512, kernel_size=(2,), stride=(2,), bias=False)\n",
       "        (activation): GELUActivation()\n",
       "      )\n",
       "    )\n",
       "  )\n",
       "  (feature_projection): Wav2Vec2FeatureProjection(\n",
       "    (layer_norm): LayerNorm((512,), eps=1e-05, elementwise_affine=True)\n",
       "    (projection): Linear(in_features=512, out_features=768, bias=True)\n",
       "    (dropout): Dropout(p=0.1, inplace=False)\n",
       "  )\n",
       "  (encoder): Wav2Vec2Encoder(\n",
       "    (pos_conv_embed): Wav2Vec2PositionalConvEmbedding(\n",
       "      (conv): ParametrizedConv1d(\n",
       "        768, 768, kernel_size=(128,), stride=(1,), padding=(64,), groups=16\n",
       "        (parametrizations): ModuleDict(\n",
       "          (weight): ParametrizationList(\n",
       "            (0): _WeightNorm()\n",
       "          )\n",
       "        )\n",
       "      )\n",
       "      (padding): Wav2Vec2SamePadLayer()\n",
       "      (activation): GELUActivation()\n",
       "    )\n",
       "    (layer_norm): LayerNorm((768,), eps=1e-05, elementwise_affine=True)\n",
       "    (dropout): Dropout(p=0.1, inplace=False)\n",
       "    (layers): ModuleList(\n",
       "      (0-11): 12 x Wav2Vec2EncoderLayer(\n",
       "        (attention): Wav2Vec2SdpaAttention(\n",
       "          (k_proj): Linear(in_features=768, out_features=768, bias=True)\n",
       "          (v_proj): Linear(in_features=768, out_features=768, bias=True)\n",
       "          (q_proj): Linear(in_features=768, out_features=768, bias=True)\n",
       "          (out_proj): Linear(in_features=768, out_features=768, bias=True)\n",
       "        )\n",
       "        (dropout): Dropout(p=0.1, inplace=False)\n",
       "        (layer_norm): LayerNorm((768,), eps=1e-05, elementwise_affine=True)\n",
       "        (feed_forward): Wav2Vec2FeedForward(\n",
       "          (intermediate_dropout): Dropout(p=0.1, inplace=False)\n",
       "          (intermediate_dense): Linear(in_features=768, out_features=3072, bias=True)\n",
       "          (intermediate_act_fn): GELUActivation()\n",
       "          (output_dense): Linear(in_features=3072, out_features=768, bias=True)\n",
       "          (output_dropout): Dropout(p=0.1, inplace=False)\n",
       "        )\n",
       "        (final_layer_norm): LayerNorm((768,), eps=1e-05, elementwise_affine=True)\n",
       "      )\n",
       "    )\n",
       "  )\n",
       ")"
      ]
     },
     "execution_count": 14,
     "metadata": {},
     "output_type": "execute_result"
    }
   ],
   "source": [
    "from transformers import AutoProcessor, Wav2Vec2Model\n",
    "import torch\n",
    "\n",
    "processor = AutoProcessor.from_pretrained(\"facebook/wav2vec2-base-960h\")\n",
    "model = Wav2Vec2Model.from_pretrained(\"facebook/wav2vec2-base-960h\")\n",
    "\n",
    "device = torch.device(\"cuda\" if torch.cuda.is_available() else \"cpu\")\n",
    "model.to(device)\n"
   ]
  },
  {
   "cell_type": "markdown",
   "metadata": {},
   "source": [
    "Test Model\n"
   ]
  },
  {
   "cell_type": "code",
   "execution_count": 10,
   "metadata": {},
   "outputs": [
    {
     "name": "stdout",
     "output_type": "stream",
     "text": [
      "Collecting librosa\n",
      "  Downloading librosa-0.11.0-py3-none-any.whl.metadata (8.7 kB)\n",
      "Collecting audioread>=2.1.9 (from librosa)\n",
      "  Downloading audioread-3.0.1-py3-none-any.whl.metadata (8.4 kB)\n",
      "Requirement already satisfied: numba>=0.51.0 in c:\\python312\\lib\\site-packages (from librosa) (0.61.2)\n",
      "Requirement already satisfied: numpy>=1.22.3 in c:\\python312\\lib\\site-packages (from librosa) (1.26.4)\n",
      "Requirement already satisfied: scipy>=1.6.0 in c:\\users\\10857\\appdata\\roaming\\python\\python312\\site-packages (from librosa) (1.14.1)\n",
      "Requirement already satisfied: scikit-learn>=1.1.0 in c:\\python312\\lib\\site-packages (from librosa) (1.5.2)\n",
      "Requirement already satisfied: joblib>=1.0 in c:\\users\\10857\\appdata\\roaming\\python\\python312\\site-packages (from librosa) (1.4.2)\n",
      "Requirement already satisfied: decorator>=4.3.0 in c:\\users\\10857\\appdata\\roaming\\python\\python312\\site-packages (from librosa) (5.1.1)\n",
      "Requirement already satisfied: soundfile>=0.12.1 in c:\\python312\\lib\\site-packages (from librosa) (0.13.1)\n",
      "Collecting pooch>=1.1 (from librosa)\n",
      "  Using cached pooch-1.8.2-py3-none-any.whl.metadata (10 kB)\n",
      "Collecting soxr>=0.3.2 (from librosa)\n",
      "  Downloading soxr-0.5.0.post1-cp312-abi3-win_amd64.whl.metadata (5.6 kB)\n",
      "Requirement already satisfied: typing_extensions>=4.1.1 in c:\\python312\\lib\\site-packages (from librosa) (4.12.2)\n",
      "Requirement already satisfied: lazy_loader>=0.1 in c:\\python312\\lib\\site-packages (from librosa) (0.4)\n",
      "Collecting msgpack>=1.0 (from librosa)\n",
      "  Downloading msgpack-1.1.0-cp312-cp312-win_amd64.whl.metadata (8.6 kB)\n",
      "Requirement already satisfied: packaging in c:\\users\\10857\\appdata\\roaming\\python\\python312\\site-packages (from lazy_loader>=0.1->librosa) (24.1)\n",
      "Requirement already satisfied: llvmlite<0.45,>=0.44.0dev0 in c:\\python312\\lib\\site-packages (from numba>=0.51.0->librosa) (0.44.0)\n",
      "Requirement already satisfied: platformdirs>=2.5.0 in c:\\users\\10857\\appdata\\roaming\\python\\python312\\site-packages (from pooch>=1.1->librosa) (4.3.6)\n",
      "Requirement already satisfied: requests>=2.19.0 in c:\\python312\\lib\\site-packages (from pooch>=1.1->librosa) (2.32.3)\n",
      "Requirement already satisfied: charset-normalizer<4,>=2 in c:\\python312\\lib\\site-packages (from requests>=2.19.0->pooch>=1.1->librosa) (3.4.0)\n",
      "Requirement already satisfied: idna<4,>=2.5 in c:\\python312\\lib\\site-packages (from requests>=2.19.0->pooch>=1.1->librosa) (3.10)\n",
      "Requirement already satisfied: urllib3<3,>=1.21.1 in c:\\python312\\lib\\site-packages (from requests>=2.19.0->pooch>=1.1->librosa) (2.2.3)\n",
      "Requirement already satisfied: certifi>=2017.4.17 in c:\\python312\\lib\\site-packages (from requests>=2.19.0->pooch>=1.1->librosa) (2024.8.30)\n",
      "Requirement already satisfied: threadpoolctl>=3.1.0 in c:\\users\\10857\\appdata\\roaming\\python\\python312\\site-packages (from scikit-learn>=1.1.0->librosa) (3.5.0)\n",
      "Requirement already satisfied: cffi>=1.0 in c:\\python312\\lib\\site-packages (from soundfile>=0.12.1->librosa) (1.17.1)\n",
      "Requirement already satisfied: pycparser in c:\\python312\\lib\\site-packages (from cffi>=1.0->soundfile>=0.12.1->librosa) (2.22)\n",
      "Downloading librosa-0.11.0-py3-none-any.whl (260 kB)\n",
      "Downloading audioread-3.0.1-py3-none-any.whl (23 kB)\n",
      "Downloading msgpack-1.1.0-cp312-cp312-win_amd64.whl (75 kB)\n",
      "Using cached pooch-1.8.2-py3-none-any.whl (64 kB)\n",
      "Downloading soxr-0.5.0.post1-cp312-abi3-win_amd64.whl (164 kB)\n",
      "Installing collected packages: soxr, msgpack, audioread, pooch, librosa\n",
      "\n",
      "   ---------------- ----------------------- 2/5 [audioread]\n",
      "   ------------------------ --------------- 3/5 [pooch]\n",
      "   -------------------------------- ------- 4/5 [librosa]\n",
      "   -------------------------------- ------- 4/5 [librosa]\n",
      "   ---------------------------------------- 5/5 [librosa]\n",
      "\n",
      "Successfully installed audioread-3.0.1 librosa-0.11.0 msgpack-1.1.0 pooch-1.8.2 soxr-0.5.0.post1\n"
     ]
    },
    {
     "name": "stderr",
     "output_type": "stream",
     "text": [
      "WARNING: Ignoring invalid distribution ~ip (C:\\Python312\\Lib\\site-packages)\n",
      "WARNING: Ignoring invalid distribution ~ip (C:\\Python312\\Lib\\site-packages)\n",
      "WARNING: Ignoring invalid distribution ~ip (C:\\Python312\\Lib\\site-packages)\n"
     ]
    }
   ],
   "source": [
    "!pip install librosa\n"
   ]
  },
  {
   "cell_type": "code",
   "execution_count": null,
   "metadata": {},
   "outputs": [
    {
     "name": "stdout",
     "output_type": "stream",
     "text": [
      "torch.Size([1, 430, 768])\n"
     ]
    }
   ],
   "source": [
    "import librosa\n",
    "\n",
    "input_file = \"ppl_dataset/devel_0074.wav\"\n",
    "waveform, sr = librosa.load(input_file, sr=16000)  \n",
    "\n",
    "inputs = processor(waveform, sampling_rate=16000, return_tensors=\"pt\")\n",
    "\n",
    "inputs = {k: v.to(model.device) for k, v in inputs.items()}\n",
    "\n",
    "with torch.no_grad():\n",
    "    outputs = model(**inputs).last_hidden_state\n",
    "\n",
    "print(outputs.shape)  # torch.Size([1, seq_len, 768])\n"
   ]
  },
  {
   "cell_type": "markdown",
   "metadata": {},
   "source": [
    "### Whisper\n",
    "Huggingface: https://huggingface.co/openai/whisper-small"
   ]
  },
  {
   "cell_type": "code",
   "execution_count": null,
   "metadata": {},
   "outputs": [],
   "source": [
    "# Use a pipeline as a high-level helper\n",
    "from transformers import pipeline\n",
    "\n",
    "pipe = pipeline(\"automatic-speech-recognition\", model=\"openai/whisper-small\")"
   ]
  },
  {
   "cell_type": "code",
   "execution_count": null,
   "metadata": {},
   "outputs": [],
   "source": [
    "import torch\n",
    "from transformers import WhisperProcessor, WhisperModel\n",
    "\n",
    "processor = WhisperProcessor.from_pretrained(\"openai/whisper-small\")\n",
    "model = WhisperModel.from_pretrained(\"openai/whisper-small\")\n",
    "\n",
    "device = torch.device(\"cuda\" if torch.cuda.is_available() else \"cpu\")\n",
    "model.to(device)"
   ]
  },
  {
   "cell_type": "markdown",
   "metadata": {},
   "source": [
    "## Generating Embeddings"
   ]
  },
  {
   "cell_type": "code",
   "execution_count": 22,
   "metadata": {},
   "outputs": [
    {
     "name": "stdout",
     "output_type": "stream",
     "text": [
      "Using device: cuda\n"
     ]
    },
    {
     "name": "stderr",
     "output_type": "stream",
     "text": [
      "Some weights of Wav2Vec2Model were not initialized from the model checkpoint at facebook/wav2vec2-base-960h and are newly initialized: ['wav2vec2.masked_spec_embed']\n",
      "You should probably TRAIN this model on a down-stream task to be able to use it for predictions and inference.\n"
     ]
    },
    {
     "name": "stdout",
     "output_type": "stream",
     "text": [
      "[train] Found 8 wav files\n"
     ]
    },
    {
     "name": "stderr",
     "output_type": "stream",
     "text": [
      "Processing train: 100%|██████████| 8/8 [00:00<00:00, 50.05it/s]\n"
     ]
    },
    {
     "name": "stdout",
     "output_type": "stream",
     "text": [
      "[val] Found 3 wav files\n"
     ]
    },
    {
     "name": "stderr",
     "output_type": "stream",
     "text": [
      "Processing val: 100%|██████████| 3/3 [00:00<00:00, 59.17it/s]\n"
     ]
    },
    {
     "name": "stdout",
     "output_type": "stream",
     "text": [
      "[test] Found 8 wav files\n"
     ]
    },
    {
     "name": "stderr",
     "output_type": "stream",
     "text": [
      "Processing test: 100%|██████████| 8/8 [00:00<00:00, 55.60it/s]\n"
     ]
    }
   ],
   "source": [
    "import os\n",
    "import numpy as np\n",
    "from transformers import Wav2Vec2Processor, Wav2Vec2Model\n",
    "\n",
    "device = torch.device(\"cuda\" if torch.cuda.is_available() else \"cpu\")\n",
    "print(f\"Using device: {device}\")\n",
    "\n",
    "input_root = \"ppl_dataset/\"\n",
    "output_root = \"embeddings_ppl/\"\n",
    "\n",
    "processor = Wav2Vec2Processor.from_pretrained(\"facebook/wav2vec2-base-960h\")\n",
    "model = Wav2Vec2Model.from_pretrained(\"facebook/wav2vec2-base-960h\").to(device).eval()\n",
    "\n",
    "for split in [\"train\", \"val\", \"test\"]:\n",
    "    input_dir = os.path.join(input_root, split)\n",
    "    output_dir = os.path.join(output_root, split)\n",
    "    os.makedirs(output_dir, exist_ok=True)\n",
    "\n",
    "    wav_files = [f for f in os.listdir(input_dir) if f.endswith(\".wav\")]\n",
    "    print(f\"[{split}] Found {len(wav_files)} wav files\")\n",
    "\n",
    "    for filename in tqdm(wav_files, desc=f\"Processing {split}\"):\n",
    "        wav_path = os.path.join(input_dir, filename)\n",
    "\n",
    "        waveform, sr = librosa.load(wav_path, sr=16000)\n",
    "\n",
    "        inputs = processor(waveform, sampling_rate=16000, return_tensors=\"pt\")\n",
    "        inputs = {k: v.to(device) for k, v in inputs.items()}\n",
    "\n",
    "        with torch.no_grad():\n",
    "            hidden_states = model(**inputs).last_hidden_state\n",
    "            embedding = hidden_states.mean(dim=1)  # shape: (1, 768)\n",
    "\n",
    "        save_path = os.path.join(output_dir, filename.replace(\".wav\", \".npy\"))\n",
    "        np.save(save_path, embedding.cpu().squeeze().numpy())\n"
   ]
  },
  {
   "cell_type": "markdown",
   "metadata": {},
   "source": [
    "## Load Embeddings"
   ]
  },
  {
   "cell_type": "code",
   "execution_count": null,
   "metadata": {},
   "outputs": [],
   "source": [
    "from concurrent.futures import ThreadPoolExecutor\n",
    "import glob\n",
    "\n",
    "\n",
    "def load_single_acoustic_embedding(npy_file):\n",
    "    basename = os.path.splitext(os.path.basename(npy_file))[0]  \n",
    "    embedding = np.load(npy_file)\n",
    "    return basename, embedding\n",
    "\n",
    "def load_acoustic_embeddings(embedding_dir: str):\n",
    "    npy_files = glob.glob(os.path.join(embedding_dir, \"*.npy\"))\n",
    "\n",
    "    with ThreadPoolExecutor() as executor:\n",
    "        results = list(tqdm(executor.map(load_single_acoustic_embedding, npy_files),\n",
    "                            total=len(npy_files),\n",
    "                            desc=\"Loading acoustic embeddings\"))\n",
    "\n",
    "    embedding_dict = dict(results)\n",
    "    print(f\"✅ Loaded {len(embedding_dict)} embeddings.\")\n",
    "    print(f\"🧪 Sample shape: {next(iter(embedding_dict.values())).shape}\")\n",
    "    return embedding_dict"
   ]
  },
  {
   "cell_type": "code",
   "execution_count": 24,
   "metadata": {},
   "outputs": [
    {
     "name": "stderr",
     "output_type": "stream",
     "text": [
      "Loading acoustic embeddings: 100%|██████████| 3/3 [00:00<00:00, 2998.79it/s]\n"
     ]
    },
    {
     "name": "stdout",
     "output_type": "stream",
     "text": [
      "✅ Loaded 3 embeddings.\n",
      "🧪 Sample shape: (768,)\n"
     ]
    },
    {
     "name": "stderr",
     "output_type": "stream",
     "text": [
      "Loading acoustic embeddings: 100%|██████████| 8/8 [00:00<?, ?it/s]\n"
     ]
    },
    {
     "name": "stdout",
     "output_type": "stream",
     "text": [
      "✅ Loaded 8 embeddings.\n",
      "🧪 Sample shape: (768,)\n"
     ]
    },
    {
     "name": "stderr",
     "output_type": "stream",
     "text": [
      "Loading acoustic embeddings: 100%|██████████| 8/8 [00:00<?, ?it/s]"
     ]
    },
    {
     "name": "stdout",
     "output_type": "stream",
     "text": [
      "✅ Loaded 8 embeddings.\n",
      "🧪 Sample shape: (768,)\n"
     ]
    },
    {
     "name": "stderr",
     "output_type": "stream",
     "text": [
      "\n"
     ]
    }
   ],
   "source": [
    "embedding_dir = \"embeddings_ppl/\"\n",
    "val_embeddings_dict = load_acoustic_embeddings(os.path.join(embedding_dir, \"val\"))\n",
    "test_embeddings_dict = load_acoustic_embeddings(os.path.join(embedding_dir, \"test\"))\n",
    "train_embeddings_dict = load_acoustic_embeddings(os.path.join(embedding_dir, \"train\"))"
   ]
  },
  {
   "cell_type": "markdown",
   "metadata": {},
   "source": [
    "## Search in Ground Truth\n"
   ]
  },
  {
   "cell_type": "code",
   "execution_count": 25,
   "metadata": {},
   "outputs": [],
   "source": [
    "def search_in_ground_truth(file_id: str, label_dict: dict) -> str:\n",
    "    wav_name = file_id + \".wav\"\n",
    "    return label_dict.get(wav_name, None)\n"
   ]
  },
  {
   "cell_type": "markdown",
   "metadata": {},
   "source": [
    "Test"
   ]
  },
  {
   "cell_type": "code",
   "execution_count": null,
   "metadata": {},
   "outputs": [
    {
     "name": "stdout",
     "output_type": "stream",
     "text": [
      "C\n"
     ]
    }
   ],
   "source": [
    "label = search_in_ground_truth(\"train_9493\", label_dict)\n",
    "print(label)  \n"
   ]
  },
  {
   "cell_type": "markdown",
   "metadata": {},
   "source": [
    "## Downstream Network"
   ]
  },
  {
   "cell_type": "code",
   "execution_count": 27,
   "metadata": {},
   "outputs": [
    {
     "name": "stdout",
     "output_type": "stream",
     "text": [
      "Using cuda device\n"
     ]
    }
   ],
   "source": [
    "device = (\n",
    "    \"cuda\"\n",
    "    if torch.cuda.is_available()\n",
    "    else \"cpu\"\n",
    ")\n",
    "print(f\"Using {device} device\")"
   ]
  },
  {
   "cell_type": "code",
   "execution_count": 28,
   "metadata": {},
   "outputs": [],
   "source": [
    "import torch\n",
    "from torch import nn\n",
    "from torch.utils.data import DataLoader\n",
    "from torch.utils.data import Dataset"
   ]
  },
  {
   "cell_type": "markdown",
   "metadata": {},
   "source": [
    "Hyperparameter"
   ]
  },
  {
   "cell_type": "code",
   "execution_count": 29,
   "metadata": {},
   "outputs": [],
   "source": [
    "# Model hyperparameters\n",
    "model_params = {\n",
    "    'input_size': 320,    # ESM2 embedding dimension\n",
    "    'output_size': 1,     \n",
    "    'hidden_size': 128,   \n",
    "    'num_layers': 2       \n",
    "}\n",
    "\n",
    "# Training hyperparameters\n",
    "training_params = {\n",
    "    'learning_rate': 1e-3,\n",
    "    'batch_size': 64,\n",
    "    'num_epochs': 100,\n",
    "    'dropout_rate': 0.2\n",
    "}\n",
    "\n",
    "# Early stopping parameters\n",
    "early_stopping_params = {\n",
    "    'patience': 10,\n",
    "    'min_delta': 0.001\n",
    "}"
   ]
  },
  {
   "cell_type": "markdown",
   "metadata": {},
   "source": [
    "### FCN"
   ]
  },
  {
   "cell_type": "code",
   "execution_count": 47,
   "metadata": {},
   "outputs": [],
   "source": [
    "import torch\n",
    "import torch.nn as nn\n",
    "\n",
    "class ColdPredictor(nn.Module):\n",
    "    def __init__(self, input_size=768, hidden_size=512, dropout=0.3):\n",
    "        super(ColdPredictor, self).__init__()\n",
    "\n",
    "        self.fc1 = nn.Linear(input_size, hidden_size)\n",
    "        self.relu1 = nn.ReLU()\n",
    "        self.drop1 = nn.Dropout(dropout)\n",
    "\n",
    "        self.fc2 = nn.Linear(hidden_size, hidden_size // 2)\n",
    "        self.relu2 = nn.ReLU()\n",
    "        self.drop2 = nn.Dropout(dropout)\n",
    "\n",
    "        self.output = nn.Linear(hidden_size // 2, 1) \n",
    "\n",
    "    def forward(self, x):\n",
    "        x = self.fc1(x)\n",
    "        x = self.relu1(x)\n",
    "        x = self.drop1(x)\n",
    "\n",
    "        x = self.fc2(x)\n",
    "        x = self.relu2(x)\n",
    "        x = self.drop2(x)\n",
    "\n",
    "        x = self.output(x)\n",
    "        return x\n"
   ]
  },
  {
   "cell_type": "markdown",
   "metadata": {},
   "source": [
    "## Training"
   ]
  },
  {
   "cell_type": "code",
   "execution_count": 48,
   "metadata": {},
   "outputs": [],
   "source": [
    "model = ColdPredictor(input_size=768).to(\"cuda\" if torch.cuda.is_available() else \"cpu\")\n",
    "criterion = nn.BCEWithLogitsLoss()\n",
    "optimizer = torch.optim.Adam(model.parameters(), lr=1e-4)\n",
    "\n",
    "device = next(model.parameters()).device\n",
    "\n",
    "# ✅ Training Loop\n",
    "num_epochs = 10"
   ]
  },
  {
   "cell_type": "markdown",
   "metadata": {},
   "source": [
    "### Data Loader\n"
   ]
  },
  {
   "cell_type": "code",
   "execution_count": 49,
   "metadata": {},
   "outputs": [],
   "source": [
    "from torch.utils.data import Dataset\n",
    "import torch\n",
    "\n",
    "class ColdDetectionDataset(Dataset):\n",
    "    \"\"\"\n",
    "    Dataset for cold detection task using audio embeddings.\n",
    "    Each sample = (embedding, binary label)\n",
    "    \"\"\"\n",
    "    def __init__(self, embedding_dict, label_dict):\n",
    "        self.samples = []\n",
    "\n",
    "        for file_id, emb in embedding_dict.items():\n",
    "            wav_name = file_id + \".wav\"\n",
    "            if wav_name in label_dict:\n",
    "                label = 1 if label_dict[wav_name] == \"C\" else 0\n",
    "                self.samples.append((\n",
    "                    torch.tensor(emb, dtype=torch.float32),\n",
    "                    torch.tensor(label, dtype=torch.long)\n",
    "                ))\n",
    "\n",
    "    def __len__(self):\n",
    "        return len(self.samples)\n",
    "\n",
    "    def __getitem__(self, idx):\n",
    "        return self.samples[idx]\n"
   ]
  },
  {
   "cell_type": "code",
   "execution_count": null,
   "metadata": {},
   "outputs": [
    {
     "data": {
      "text/plain": [
       "\"\\ntest_loader = DataLoader(\\n    test_embeddings_dict,\\n    batch_size=training_params['batch_size'],\\n    shuffle=False,\\n    num_workers=training_params['num_workers'],\\n    pin_memory=True\\n)\\n\""
      ]
     },
     "execution_count": 50,
     "metadata": {},
     "output_type": "execute_result"
    }
   ],
   "source": [
    "from torch.utils.data import DataLoader\n",
    "\n",
    "train_dataset = ColdDetectionDataset(train_embeddings_dict, label_dict)\n",
    "val_dataset   = ColdDetectionDataset(val_embeddings_dict, label_dict)\n",
    "\n",
    "training_params = {\n",
    "    'batch_size': 32,\n",
    "    'num_workers': 0  \n",
    "}\n",
    "\n",
    "train_loader = DataLoader(\n",
    "    train_dataset,\n",
    "    batch_size=training_params['batch_size'],\n",
    "    shuffle=True,\n",
    "    num_workers=training_params['num_workers'],\n",
    "    pin_memory=True\n",
    ")\n",
    "\n",
    "val_loader = DataLoader(\n",
    "    val_dataset,\n",
    "    batch_size=training_params['batch_size'],\n",
    "    shuffle=False,\n",
    "    num_workers=training_params['num_workers'],\n",
    "    pin_memory=True\n",
    ")\n"
   ]
  },
  {
   "cell_type": "markdown",
   "metadata": {},
   "source": [
    "### Training Loop\n"
   ]
  },
  {
   "cell_type": "code",
   "execution_count": 51,
   "metadata": {},
   "outputs": [
    {
     "name": "stdout",
     "output_type": "stream",
     "text": [
      "Starting training...\n",
      "\n",
      "\n",
      "================================================================================\n",
      "Epoch [1/10]\n",
      "================================================================================\n",
      "\n"
     ]
    },
    {
     "name": "stderr",
     "output_type": "stream",
     "text": [
      "Epoch 1 Training: 100%|██████████| 1/1 [00:00<00:00,  4.45it/s, loss=0.6879]\n",
      "Validating: 100%|██████████| 1/1 [00:00<00:00, 257.75it/s]\n"
     ]
    },
    {
     "name": "stdout",
     "output_type": "stream",
     "text": [
      "\n",
      "Epoch [1] Summary:\n",
      "✅ Saved best model\n",
      "\n",
      "================================================================================\n",
      "Epoch [2/10]\n",
      "================================================================================\n",
      "\n"
     ]
    },
    {
     "name": "stderr",
     "output_type": "stream",
     "text": [
      "Epoch 2 Training: 100%|██████████| 1/1 [00:00<00:00, 142.47it/s, loss=0.6834]\n",
      "Validating: 100%|██████████| 1/1 [00:00<00:00, 498.49it/s]\n"
     ]
    },
    {
     "name": "stdout",
     "output_type": "stream",
     "text": [
      "\n",
      "Epoch [2] Summary:\n",
      "✅ Saved best model\n",
      "\n",
      "================================================================================\n",
      "Epoch [3/10]\n",
      "================================================================================\n",
      "\n"
     ]
    },
    {
     "name": "stderr",
     "output_type": "stream",
     "text": [
      "Epoch 3 Training: 100%|██████████| 1/1 [00:00<00:00, 94.97it/s, loss=0.6815]\n",
      "Validating: 100%|██████████| 1/1 [00:00<00:00, 274.26it/s]\n"
     ]
    },
    {
     "name": "stdout",
     "output_type": "stream",
     "text": [
      "\n",
      "Epoch [3] Summary:\n",
      "✅ Saved best model\n",
      "\n",
      "================================================================================\n",
      "Epoch [4/10]\n",
      "================================================================================\n",
      "\n"
     ]
    },
    {
     "name": "stderr",
     "output_type": "stream",
     "text": [
      "Epoch 4 Training: 100%|██████████| 1/1 [00:00<00:00, 41.62it/s, loss=0.6752]\n",
      "Validating: 100%|██████████| 1/1 [00:00<00:00, 254.26it/s]\n"
     ]
    },
    {
     "name": "stdout",
     "output_type": "stream",
     "text": [
      "\n",
      "Epoch [4] Summary:\n",
      "✅ Saved best model\n",
      "\n",
      "================================================================================\n",
      "Epoch [5/10]\n",
      "================================================================================\n",
      "\n"
     ]
    },
    {
     "name": "stderr",
     "output_type": "stream",
     "text": [
      "Epoch 5 Training: 100%|██████████| 1/1 [00:00<00:00, 43.38it/s, loss=0.6722]\n",
      "Validating: 100%|██████████| 1/1 [00:00<00:00, 285.27it/s]\n"
     ]
    },
    {
     "name": "stdout",
     "output_type": "stream",
     "text": [
      "\n",
      "Epoch [5] Summary:\n",
      "✅ Saved best model\n",
      "\n",
      "================================================================================\n",
      "Epoch [6/10]\n",
      "================================================================================\n",
      "\n"
     ]
    },
    {
     "name": "stderr",
     "output_type": "stream",
     "text": [
      "Epoch 6 Training: 100%|██████████| 1/1 [00:00<00:00, 165.40it/s, loss=0.6662]\n",
      "Validating: 100%|██████████| 1/1 [00:00<00:00, 181.28it/s]\n"
     ]
    },
    {
     "name": "stdout",
     "output_type": "stream",
     "text": [
      "\n",
      "Epoch [6] Summary:\n",
      "✅ Saved best model\n",
      "\n",
      "================================================================================\n",
      "Epoch [7/10]\n",
      "================================================================================\n",
      "\n"
     ]
    },
    {
     "name": "stderr",
     "output_type": "stream",
     "text": [
      "Epoch 7 Training: 100%|██████████| 1/1 [00:00<00:00, 196.68it/s, loss=0.6710]\n",
      "Validating: 100%|██████████| 1/1 [00:00<00:00, 249.97it/s]\n"
     ]
    },
    {
     "name": "stdout",
     "output_type": "stream",
     "text": [
      "\n",
      "Epoch [7] Summary:\n",
      "✅ Saved best model\n",
      "\n",
      "================================================================================\n",
      "Epoch [8/10]\n",
      "================================================================================\n",
      "\n"
     ]
    },
    {
     "name": "stderr",
     "output_type": "stream",
     "text": [
      "Epoch 8 Training: 100%|██████████| 1/1 [00:00<00:00, 79.64it/s, loss=0.6690]\n",
      "Validating: 100%|██████████| 1/1 [00:00<00:00, 166.50it/s]\n"
     ]
    },
    {
     "name": "stdout",
     "output_type": "stream",
     "text": [
      "\n",
      "Epoch [8] Summary:\n",
      "✅ Saved best model\n",
      "\n",
      "================================================================================\n",
      "Epoch [9/10]\n",
      "================================================================================\n",
      "\n"
     ]
    },
    {
     "name": "stderr",
     "output_type": "stream",
     "text": [
      "Epoch 9 Training: 100%|██████████| 1/1 [00:00<00:00, 166.71it/s, loss=0.6679]\n",
      "Validating: 100%|██████████| 1/1 [00:00<00:00, 199.75it/s]\n"
     ]
    },
    {
     "name": "stdout",
     "output_type": "stream",
     "text": [
      "\n",
      "Epoch [9] Summary:\n",
      "✅ Saved best model\n",
      "\n",
      "================================================================================\n",
      "Epoch [10/10]\n",
      "================================================================================\n",
      "\n"
     ]
    },
    {
     "name": "stderr",
     "output_type": "stream",
     "text": [
      "Epoch 10 Training: 100%|██████████| 1/1 [00:00<00:00, 116.60it/s, loss=0.6643]\n",
      "Validating: 100%|██████████| 1/1 [00:00<00:00, 352.97it/s]"
     ]
    },
    {
     "name": "stdout",
     "output_type": "stream",
     "text": [
      "\n",
      "Epoch [10] Summary:\n",
      "✅ Saved best model\n",
      "\n",
      "🎉 Training complete in 0.01 min\n"
     ]
    },
    {
     "name": "stderr",
     "output_type": "stream",
     "text": [
      "\n"
     ]
    }
   ],
   "source": [
    "import time\n",
    "\n",
    "best_val_loss = float('inf')\n",
    "patience = 25\n",
    "patience_counter = 0\n",
    "training_losses = []\n",
    "validation_losses = []\n",
    "start_time = time.time()\n",
    "\n",
    "print(\"Starting training...\\n\")\n",
    "\n",
    "for epoch in range(num_epochs):\n",
    "    model.train()\n",
    "    running_loss = 0.0\n",
    "    all_preds, all_labels = [], []\n",
    "\n",
    "    print(f'\\n{\"=\"*80}')\n",
    "    print(f'Epoch [{epoch+1}/{num_epochs}]')\n",
    "    print(f'{\"=\"*80}\\n')\n",
    "\n",
    "    progress_bar = tqdm(train_loader, desc=f\"Epoch {epoch+1} Training\")\n",
    "\n",
    "    for batch_X, batch_y in progress_bar:\n",
    "        batch_X = batch_X.to(device)\n",
    "        batch_y = batch_y.to(device)\n",
    "\n",
    "        # Forward\n",
    "        optimizer.zero_grad()\n",
    "        logits = model(batch_X).squeeze()\n",
    "        loss = criterion(logits, batch_y.float())\n",
    "\n",
    "        # Backward\n",
    "        loss.backward()\n",
    "        optimizer.step()\n",
    "\n",
    "        # 统计\n",
    "        preds = (torch.sigmoid(logits) > 0.5).long()\n",
    "        all_preds.extend(preds.cpu().numpy())\n",
    "        all_labels.extend(batch_y.cpu().numpy())\n",
    "\n",
    "        running_loss += loss.item()\n",
    "        progress_bar.set_postfix({'loss': f'{loss.item():.4f}'})\n",
    "\n",
    "    epoch_loss = running_loss / len(train_loader)\n",
    "    training_losses.append(epoch_loss)\n",
    "\n",
    "\n",
    "    # 验证\n",
    "    model.eval()\n",
    "    val_loss, val_preds, val_labels = 0.0, [], []\n",
    "\n",
    "    with torch.no_grad():\n",
    "        for batch_X, batch_y in tqdm(val_loader, desc=\"Validating\"):\n",
    "            batch_X = batch_X.to(device)\n",
    "            batch_y = batch_y.to(device)\n",
    "\n",
    "            logits = model(batch_X).squeeze()\n",
    "            loss = criterion(logits, batch_y.float())\n",
    "            val_loss += loss.item()\n",
    "\n",
    "            preds = (torch.sigmoid(logits) > 0.5).long()\n",
    "            val_preds.extend(preds.cpu().numpy())\n",
    "            val_labels.extend(batch_y.cpu().numpy())\n",
    "\n",
    "    avg_val_loss = val_loss / len(val_loader)\n",
    "    validation_losses.append(avg_val_loss)\n",
    "\n",
    "    print(f\"\\nEpoch [{epoch+1}] Summary:\")\n",
    "\n",
    "\n",
    "    # Early stopping\n",
    "    if avg_val_loss < best_val_loss:\n",
    "        best_val_loss = avg_val_loss\n",
    "        patience_counter = 0\n",
    "        torch.save(model.state_dict(), \"best_cold_model.pth\")\n",
    "        print(\"✅ Saved best model\")\n",
    "    else:\n",
    "        patience_counter += 1\n",
    "        if patience_counter >= patience:\n",
    "            print(f\"\\n⛔ Early stopping triggered at epoch {epoch+1}\")\n",
    "            break\n",
    "\n",
    "print(f\"\\n🎉 Training complete in {(time.time() - start_time)/60:.2f} min\")\n"
   ]
  },
  {
   "cell_type": "markdown",
   "metadata": {},
   "source": [
    "Visualization\n"
   ]
  },
  {
   "cell_type": "code",
   "execution_count": 53,
   "metadata": {},
   "outputs": [
    {
     "name": "stdout",
     "output_type": "stream",
     "text": [
      "✅ Epochs completed: 10 / Defined: 10\n",
      "📁 Saved loss curve and CSV\n"
     ]
    },
    {
     "data": {
      "image/png": "[encoded data removed]",
      "text/plain": [
       "<Figure size 800x600 with 1 Axes>"
      ]
     },
     "metadata": {},
     "output_type": "display_data"
    }
   ],
   "source": [
    "import matplotlib.pyplot as plt\n",
    "import pandas as pd\n",
    "\n",
    "plt.figure(figsize=(8, 6))\n",
    "plt.plot(training_losses, label='Training Loss', color='crimson', marker='o', linewidth=2, markersize=6)\n",
    "plt.plot(validation_losses, label='Validation Loss', color='royalblue', marker='x', linewidth=2, markersize=6)\n",
    "\n",
    "plt.title('Cold Detection Training Curve', fontsize=14, pad=15)\n",
    "plt.xlabel('Epoch', fontsize=12, labelpad=10)\n",
    "plt.ylabel('Loss', fontsize=12, labelpad=10)\n",
    "plt.legend(frameon=True, fontsize=10)\n",
    "plt.grid(alpha=0.3)\n",
    "plt.tight_layout()\n",
    "\n",
    "print(f\"✅ Epochs completed: {len(training_losses)} / Defined: {num_epochs}\")\n",
    "\n",
    "loss_df = pd.DataFrame({\n",
    "    \"epoch\": list(range(1, len(training_losses) + 1)),\n",
    "    \"training_loss\": training_losses,\n",
    "    \"validation_loss\": validation_losses\n",
    "})\n",
    "loss_df.to_csv(\"cold_training_loss.csv\", index=False)\n",
    "print(\"📁 Saved loss curve and CSV\")\n"
   ]
  },
  {
   "cell_type": "markdown",
   "metadata": {},
   "source": [
    "## Test Set"
   ]
  },
  {
   "cell_type": "code",
   "execution_count": null,
   "metadata": {},
   "outputs": [],
   "source": [
    "from sklearn.metrics import accuracy_score, f1_score\n",
    "\n",
    "print(\"\\n🚀 Starting testing...\")\n",
    "model.eval()\n",
    "\n",
    "test_dataset = ColdDetectionDataset(test_embeddings_dict, label_dict)\n",
    "\n",
    "test_loader = DataLoader(\n",
    "    test_dataset,\n",
    "    batch_size=256,\n",
    "    shuffle=False,\n",
    "    num_workers=0,\n",
    "    pin_memory=True\n",
    ")\n",
    "\n",
    "test_preds = []\n",
    "test_labels = []\n",
    "\n",
    "with torch.no_grad():\n",
    "    with tqdm(total=len(test_loader.dataset),\n",
    "              desc=\"Testing\",\n",
    "              unit=\"samples\",\n",
    "              ncols=100) as progress_bar:\n",
    "        for batch_X, batch_y in test_loader:\n",
    "            batch_X = batch_X.to(device)\n",
    "            batch_y = batch_y.to(device)\n",
    "\n",
    "            logits = model(batch_X).squeeze() \n",
    "            probs = torch.sigmoid(logits)\n",
    "            preds = (probs > 0.5).long()\n",
    "\n",
    "            test_preds.extend(preds.cpu().tolist())\n",
    "            test_labels.extend(batch_y.cpu().tolist())\n",
    "\n",
    "            progress_bar.update(batch_X.size(0))\n",
    "\n",
    "acc = accuracy_score(test_labels, test_preds)\n",
    "f1 = f1_score(test_labels, test_preds)\n",
    "\n",
    "print(f\"\\n✅ Test Accuracy: {acc:.4f}\")\n",
    "print(f\"✅ Test F1 Score: {f1:.4f}\")\n"
   ]
  }
 ],
 "metadata": {
  "kernelspec": {
   "display_name": "Python 3",
   "language": "python",
   "name": "python3"
  },
  "language_info": {
   "codemirror_mode": {
    "name": "ipython",
    "version": 3
   },
   "file_extension": ".py",
   "mimetype": "text/x-python",
   "name": "python",
   "nbconvert_exporter": "python",
   "pygments_lexer": "ipython3",
   "version": "3.12.2"
  }
 },
 "nbformat": 4,
 "nbformat_minor": 2
}
