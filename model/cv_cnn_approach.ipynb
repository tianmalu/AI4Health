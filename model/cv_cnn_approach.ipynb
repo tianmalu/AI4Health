{
 "cells": [
  {
   "cell_type": "markdown",
   "id": "9d0c1e22",
   "metadata": {},
   "source": [
    "# CNN With Spectrogram "
   ]
  },
  {
   "cell_type": "markdown",
   "id": "8cb29157",
   "metadata": {},
   "source": [
    "## Load Data\n"
   ]
  },
  {
   "cell_type": "code",
   "execution_count": null,
   "id": "a9f623bd",
   "metadata": {},
   "outputs": [],
   "source": [
    "import csv\n",
    "from tqdm import tqdm\n",
    "\n",
    "label_dict = {}\n",
    "with open(\"../ComParE2017_Cold_4students/lab/ComParE2017_Cold.tsv\", \"r\", encoding=\"utf-8\") as f:\n",
    "    reader = csv.DictReader(f, delimiter=\"\\t\")\n",
    "    rows = list(reader)\n",
    "    for row in tqdm(rows, desc=\"Loading labels\"):\n",
    "        label_dict[row[\"file_name\"]] = row[\"Cold (upper respiratory tract infection)\"]\n"
   ]
  },
  {
   "cell_type": "code",
   "execution_count": null,
   "id": "095044ae",
   "metadata": {},
   "outputs": [],
   "source": [
    "import os\n",
    "def search_in_labels(filename, label_dict):\n",
    "    base_name = os.path.splitext(filename)[0]\n",
    "    \n",
    "    if \"_logmel\" in base_name:\n",
    "        base_name = base_name.replace(\"_logmel\", \"\")\n",
    "    if \"_flipped\" in base_name:\n",
    "        base_name = base_name.replace(\"_flipped\", \"\")\n",
    "    \n",
    "    parts = base_name.split(\"_\")\n",
    "    if len(parts) >= 2:\n",
    "        audio_filename = f\"{parts[0]}_{parts[1]}.wav\"\n",
    "    else:\n",
    "        audio_filename = f\"{base_name}.wav\"\n",
    "    \n",
    "    return label_dict.get(audio_filename, None)\n"
   ]
  },
  {
   "cell_type": "code",
   "execution_count": 4,
   "id": "42f62bef",
   "metadata": {},
   "outputs": [],
   "source": [
    "from torch.utils.data import Dataset\n",
    "from torchvision import transforms\n",
    "from PIL import Image\n",
    "import os\n",
    "\n",
    "class SpectrogramDataset(Dataset):\n",
    "    def __init__(self, image_paths, label_dict, transform=None, is_training=False):\n",
    "        self.image_paths = image_paths\n",
    "        self.label_dict = label_dict\n",
    "        self.is_training = is_training  \n",
    "        \n",
    "        self.base_transform = transforms.Compose([\n",
    "            transforms.Resize((300, 100)),\n",
    "            transforms.RandomAffine(degrees=0, translate=(0.3, 0)),\n",
    "\n",
    "            transforms.ToTensor()\n",
    "        ])\n",
    "        \n",
    "        self.c_train_transform = transforms.Compose([\n",
    "            transforms.RandomAffine(degrees=0, translate=(0.3, 0)),\n",
    "            transforms.Resize((300, 100)),\n",
    "            transforms.ToTensor()\n",
    "        ])\n",
    "        \n",
    "    def __len__(self):\n",
    "        return len(self.image_paths)\n",
    "\n",
    "    def __getitem__(self, idx):\n",
    "        image_path = self.image_paths[idx]\n",
    "        filename = os.path.basename(image_path)\n",
    "        \n",
    "        label = search_in_labels(filename, self.label_dict)\n",
    "        \n",
    "        image = Image.open(image_path).convert(\"RGB\")\n",
    "\n",
    "        if self.is_training and label == \"C\":\n",
    "            image = self.c_train_transform(image)\n",
    "        else:\n",
    "            image = self.base_transform(image)\n",
    "\n",
    "        label_num = 1 if label == \"C\" else 0  \n",
    "\n",
    "        return image, label_num"
   ]
  },
  {
   "cell_type": "code",
   "execution_count": 5,
   "id": "1b1760d5",
   "metadata": {},
   "outputs": [],
   "source": [
    "import random\n",
    "def create_progressive_undersampling(image_paths, label_dict, stages=[0.4, 0.6, 0.8]):\n",
    "\n",
    "    all_datasets = []\n",
    "    \n",
    "    for stage_ratio in stages:\n",
    "        cold_paths = []\n",
    "        healthy_paths = []\n",
    "        \n",
    "        for path in image_paths:\n",
    "            filename = os.path.basename(path)\n",
    "            label = search_in_labels(filename, label_dict)\n",
    "            \n",
    "            if label == \"C\":\n",
    "                cold_paths.append(path)\n",
    "            elif label == \"NC\":\n",
    "                healthy_paths.append(path)\n",
    "        \n",
    "        target_healthy = int(len(healthy_paths) * stage_ratio)\n",
    "        sampled_healthy = random.sample(healthy_paths, target_healthy)\n",
    "        \n",
    "        stage_paths = cold_paths + sampled_healthy\n",
    "        random.shuffle(stage_paths)\n",
    "        \n",
    "        stage_dataset = SpectrogramDataset(stage_paths, label_dict, is_training=True)\n",
    "        all_datasets.append(stage_dataset)\n",
    "        \n",
    "        print(f\"📊 Stage {stage_ratio}: {len(cold_paths)} Cold + {len(sampled_healthy)} Healthy\")\n",
    "    \n",
    "    return all_datasets"
   ]
  },
  {
   "cell_type": "code",
   "execution_count": 6,
   "id": "99b29389",
   "metadata": {},
   "outputs": [
    {
     "name": "stdout",
     "output_type": "stream",
     "text": [
      "🚀 Collecting image paths...\n",
      "🔍 Looking for images in: ../spectrogram_images/log_mel\\train_files\n",
      "📁 Found 10475 PNG files in train_files\n",
      "🔍 Looking for images in: ../spectrogram_images/log_mel\\devel_files\n",
      "📁 Found 10607 PNG files in devel_files\n",
      "📋 After filtering out 'flipped' files: 9596 files\n",
      "📊 Stage 0.3: 1940 Cold + 2560 Healthy\n",
      "📊 Stage 0.4: 1940 Cold + 3414 Healthy\n",
      "📊 Stage 0.6: 1940 Cold + 5121 Healthy\n",
      "📊 Stage 0.8: 1940 Cold + 6828 Healthy\n",
      "✅ Created train loader with 8768 samples\n",
      "✅ Created devel loader with 9596 samples\n"
     ]
    }
   ],
   "source": [
    "import os\n",
    "import glob\n",
    "from torch.utils.data import DataLoader\n",
    "\n",
    "data_split = [\"train_files\", \"devel_files\"]\n",
    "img_dir = \"../spectrogram_images/log_mel\"  \n",
    "\n",
    "def collect_image_paths_devel(split_name):\n",
    "        sub_dir = os.path.join(img_dir, split_name)\n",
    "        print(f\"🔍 Looking for images in: {sub_dir}\")\n",
    "        \n",
    "        if not os.path.exists(sub_dir):\n",
    "            print(f\"❌ Directory does not exist: {sub_dir}\")\n",
    "            return []\n",
    "        \n",
    "        png_files = glob.glob(os.path.join(sub_dir, \"*.png\"))\n",
    "        \n",
    "        filtered_files = [f for f in png_files if \"flipped\" not in os.path.basename(f)]\n",
    "        \n",
    "        print(f\"📁 Found {len(png_files)} PNG files in {split_name}\")\n",
    "        print(f\"📋 After filtering out 'flipped' files: {len(filtered_files)} files\")\n",
    "        \n",
    "        return filtered_files\n",
    "\n",
    "def collect_image_paths(split_name):\n",
    "    sub_dir = os.path.join(img_dir, split_name)\n",
    "    print(f\"🔍 Looking for images in: {sub_dir}\")\n",
    "    \n",
    "    if not os.path.exists(sub_dir):\n",
    "        print(f\"❌ Directory does not exist: {sub_dir}\")\n",
    "        return []\n",
    "    \n",
    "    png_files = glob.glob(os.path.join(sub_dir, \"*.png\"))\n",
    "    print(f\"📁 Found {len(png_files)} PNG files in {split_name}\")\n",
    "    \n",
    "    return png_files\n",
    "\n",
    "print(\"🚀 Collecting image paths...\")\n",
    "train_image_paths = collect_image_paths(\"train_files\")\n",
    "devel_image_paths = collect_image_paths_devel(\"devel_files\")\n",
    "\n",
    "progressive_datasets = create_progressive_undersampling(\n",
    "    train_image_paths, \n",
    "    label_dict, \n",
    "    stages=[0.3, 0.4, 0.6, 0.8] \n",
    ")\n",
    "\n",
    "selected_stage = 3 \n",
    "train_dataset = progressive_datasets[selected_stage]\n",
    "train_loader = DataLoader(train_dataset, batch_size = 32, shuffle=True)\n",
    "print(f\"✅ Created train loader with {len(train_dataset)} samples\")\n",
    "\n",
    "devel_dataset = SpectrogramDataset(devel_image_paths, label_dict, is_training=False)\n",
    "test_dataset = SpectrogramDataset(devel_image_paths, label_dict, is_training=False) \n",
    "    \n",
    "devel_loader = DataLoader(devel_dataset, batch_size=128, shuffle=False)\n",
    "test_loader = DataLoader(devel_dataset, batch_size=512, shuffle=False)\n",
    "print(f\"✅ Created devel loader with {len(devel_dataset)} samples\")\n"
   ]
  },
  {
   "cell_type": "markdown",
   "id": "7efa655d",
   "metadata": {},
   "source": [
    "## CNN"
   ]
  },
  {
   "cell_type": "code",
   "execution_count": 7,
   "id": "38c6ff05",
   "metadata": {},
   "outputs": [],
   "source": [
    "import torch\n",
    "import torch.nn as nn\n",
    "import torch.nn.functional as F\n",
    "\n",
    "class ImprovedCNNBinaryClassifier(nn.Module):\n",
    "    def __init__(self, input_shape=(3, 224, 224), num_classes=1):\n",
    "        super(ImprovedCNNBinaryClassifier, self).__init__()\n",
    "        \n",
    "        self.conv1 = nn.Conv2d(input_shape[0], 64, kernel_size=3, padding=1)\n",
    "        self.bn1 = nn.BatchNorm2d(64)\n",
    "        self.pool1 = nn.MaxPool2d(2, 2)\n",
    "        \n",
    "        self.conv2 = nn.Conv2d(64, 128, kernel_size=3, padding=1)\n",
    "        self.bn2 = nn.BatchNorm2d(128)\n",
    "        self.pool2 = nn.MaxPool2d(2, 2)\n",
    "        \n",
    "        self.conv3 = nn.Conv2d(128, 256, kernel_size=3, padding=1)\n",
    "        self.bn3 = nn.BatchNorm2d(256)\n",
    "        self.pool3 = nn.MaxPool2d(2, 2)\n",
    "        \n",
    "        self.conv4 = nn.Conv2d(256, 512, kernel_size=3, padding=1)\n",
    "        self.bn4 = nn.BatchNorm2d(512)\n",
    "        \n",
    "        self.adaptive_pool = nn.AdaptiveAvgPool2d((4, 4))  \n",
    "        \n",
    "        self.fc1 = nn.Linear(512 * 4 * 4, 512)  \n",
    "        self.dropout1 = nn.Dropout(0.5)\n",
    "        \n",
    "        self.fc2 = nn.Linear(512, 256)\n",
    "        self.dropout2 = nn.Dropout(0.3)\n",
    "        \n",
    "        self.fc3 = nn.Linear(256, num_classes)\n",
    "        \n",
    "    def forward(self, x):\n",
    "        x = F.relu(self.bn1(self.conv1(x)))\n",
    "        x = self.pool1(x)\n",
    "        \n",
    "        x = F.relu(self.bn2(self.conv2(x)))\n",
    "        x = self.pool2(x)\n",
    "        \n",
    "        x = F.relu(self.bn3(self.conv3(x)))\n",
    "        x = self.pool3(x)\n",
    "        \n",
    "        x = F.relu(self.bn4(self.conv4(x)))\n",
    "        \n",
    "        x = self.adaptive_pool(x) \n",
    "        \n",
    "        x = x.view(x.size(0), -1)  # [batch, 512*4*4]\n",
    "        \n",
    "        x = F.relu(self.fc1(x))\n",
    "        x = self.dropout1(x)\n",
    "        \n",
    "        x = F.relu(self.fc2(x))\n",
    "        x = self.dropout2(x)\n",
    "        \n",
    "        x = self.fc3(x)\n",
    "        \n",
    "        return x"
   ]
  },
  {
   "cell_type": "code",
   "execution_count": 8,
   "id": "1e612f09",
   "metadata": {},
   "outputs": [],
   "source": [
    "import torch\n",
    "import torch.nn as nn\n",
    "import torch.nn.functional as F\n",
    "\n",
    "class ImprovedFocalLoss(nn.Module):\n",
    "    def __init__(self, alpha=None, gamma=2.0, reduction='mean', pos_weight=None):\n",
    "        super(ImprovedFocalLoss, self).__init__()\n",
    "        self.alpha = alpha\n",
    "        self.gamma = gamma\n",
    "        self.reduction = reduction\n",
    "        self.pos_weight = pos_weight\n",
    "        \n",
    "    def forward(self, inputs, targets):\n",
    "        if self.pos_weight is not None:\n",
    "            bce_loss = F.binary_cross_entropy_with_logits(\n",
    "                inputs, targets, \n",
    "                pos_weight=self.pos_weight,\n",
    "                reduction='none'\n",
    "            )\n",
    "        else:\n",
    "            bce_loss = F.binary_cross_entropy_with_logits(\n",
    "                inputs, targets, \n",
    "                reduction='none'\n",
    "            )\n",
    "        \n",
    "        probs = torch.sigmoid(inputs)\n",
    "        \n",
    "        pt = torch.where(targets == 1, probs, 1 - probs)\n",
    "        \n",
    "        if self.alpha is not None:\n",
    "            if isinstance(self.alpha, (float, int)):\n",
    "                alpha_t = torch.where(targets == 1, self.alpha, 1 - self.alpha)\n",
    "            else:\n",
    "                alpha_t = self.alpha.gather(0, targets.long())\n",
    "        else:\n",
    "            alpha_t = 1.0\n",
    "        \n",
    "        focal_weight = alpha_t * (1 - pt) ** self.gamma\n",
    "        \n",
    "        focal_loss = focal_weight * bce_loss\n",
    "        \n",
    "        if self.reduction == 'mean':\n",
    "            return focal_loss.mean()\n",
    "        elif self.reduction == 'sum':\n",
    "            return focal_loss.sum()\n",
    "        else:\n",
    "            return focal_loss\n",
    "\n",
    "def create_focal_loss_for_imbalanced_data(pos_ratio, neg_ratio, gamma=2.0, device='cuda'):\n",
    "    pos_weight = torch.tensor(neg_ratio / pos_ratio).to(device)\n",
    "    \n",
    "    alpha = 0.25 \n",
    "    \n",
    "    return ImprovedFocalLoss(\n",
    "        alpha=alpha,\n",
    "        gamma=gamma,\n",
    "        pos_weight=pos_weight,\n",
    "        reduction='mean'\n",
    "    )\n",
    "\n",
    "class AdaptiveFocalLoss(nn.Module):\n",
    "    def __init__(self, initial_alpha=0.25, initial_gamma=2.0, \n",
    "                 alpha_schedule=None, gamma_schedule=None):\n",
    "        super(AdaptiveFocalLoss, self).__init__()\n",
    "        self.alpha = initial_alpha\n",
    "        self.gamma = initial_gamma\n",
    "        self.alpha_schedule = alpha_schedule\n",
    "        self.gamma_schedule = gamma_schedule\n",
    "        self.epoch = 0\n",
    "        \n",
    "    def update_epoch(self, epoch):\n",
    "        self.epoch = epoch\n",
    "        if self.alpha_schedule:\n",
    "            self.alpha = self.alpha_schedule(epoch)\n",
    "        if self.gamma_schedule:\n",
    "            self.gamma = self.gamma_schedule(epoch)\n",
    "    \n",
    "    def forward(self, inputs, targets):\n",
    "        bce_loss = F.binary_cross_entropy_with_logits(inputs, targets, reduction='none')\n",
    "        probs = torch.sigmoid(inputs)\n",
    "        pt = torch.where(targets == 1, probs, 1 - probs)\n",
    "        \n",
    "        alpha_t = torch.where(targets == 1, self.alpha, 1 - self.alpha)\n",
    "        focal_weight = alpha_t * (1 - pt) ** self.gamma\n",
    "        \n",
    "        return (focal_weight * bce_loss).mean()"
   ]
  },
  {
   "cell_type": "markdown",
   "id": "80274aeb",
   "metadata": {},
   "source": [
    "## Training"
   ]
  },
  {
   "cell_type": "code",
   "execution_count": 9,
   "id": "1d30dccb",
   "metadata": {},
   "outputs": [],
   "source": [
    "device = torch.device(\"cuda\" if torch.cuda.is_available() else \"cpu\")\n",
    "\n",
    "model = ImprovedCNNBinaryClassifier().to(device)\n",
    "# model = CNNBinaryClassifier(input_channels=3).to(device)\n",
    "criterion = nn.BCEWithLogitsLoss(pos_weight=torch.tensor(2).to(device))  \n",
    "# criterion = create_focal_loss_for_imbalanced_data(0.2, 0.8, device=device)\n",
    "# criterion = AdaptiveFocalLoss(initial_alpha=0.25, initial_gamma=2.5)\n",
    "optimizer = torch.optim.Adam(model.parameters(), lr=5e-5, weight_decay=1e-8)\n",
    "scheduler = torch.optim.lr_scheduler.ReduceLROnPlateau(\n",
    "    optimizer,\n",
    "    mode='min',           \n",
    "    factor=0.5,           \n",
    "    patience=3,           \n",
    "    min_lr=1e-12,         \n",
    "    threshold=0.001,      \n",
    "    threshold_mode='rel', \n",
    "    cooldown=2          \n",
    ")\n",
    "\n",
    "num_epochs = 100\n",
    "\n",
    "threshold = 0.5"
   ]
  },
  {
   "cell_type": "code",
   "execution_count": 10,
   "id": "53bcc14f",
   "metadata": {},
   "outputs": [
    {
     "name": "stdout",
     "output_type": "stream",
     "text": [
      "Using device: cuda\n"
     ]
    }
   ],
   "source": [
    "print(f\"Using device: {device}\")\n"
   ]
  },
  {
   "cell_type": "markdown",
   "id": "986da16c",
   "metadata": {},
   "source": [
    "### Training Loop"
   ]
  },
  {
   "cell_type": "code",
   "execution_count": 11,
   "id": "a600abb4",
   "metadata": {},
   "outputs": [
    {
     "name": "stdout",
     "output_type": "stream",
     "text": [
      "Starting training...\n",
      "\n",
      "\n",
      "================================================================================\n",
      "Epoch [1/100]\n",
      "================================================================================\n",
      "\n"
     ]
    },
    {
     "name": "stderr",
     "output_type": "stream",
     "text": [
      "Epoch 1 Training: 100%|██████████| 137/137 [01:11<00:00,  1.91it/s, loss=0.2857]\n",
      "Validating: 100%|██████████| 75/75 [01:01<00:00,  1.21it/s]\n"
     ]
    },
    {
     "name": "stdout",
     "output_type": "stream",
     "text": [
      "\n",
      "Epoch [1] Summary:\n",
      "  🎯 Learning Rate: 5.00e-05\n",
      "  📈 Training   - Loss: 0.6469, Acc: 0.8085, F1: 0.4504\n",
      "  📊 Validation - Loss: 0.9257, Acc: 0.5522, F1: 0.2248\n",
      "  📦 Processed  - Train: 8768 samples, Val: 9596 samples\n",
      "🌟 New best F1: 0.2248, saving model...\n",
      "\n",
      "================================================================================\n",
      "Epoch [2/100]\n",
      "================================================================================\n",
      "\n"
     ]
    },
    {
     "name": "stderr",
     "output_type": "stream",
     "text": [
      "Epoch 2 Training: 100%|██████████| 137/137 [01:14<00:00,  1.84it/s, loss=0.0049]\n",
      "Validating: 100%|██████████| 75/75 [01:01<00:00,  1.22it/s]\n"
     ]
    },
    {
     "name": "stdout",
     "output_type": "stream",
     "text": [
      "\n",
      "Epoch [2] Summary:\n",
      "  🎯 Learning Rate: 5.00e-05\n",
      "  📈 Training   - Loss: 0.0794, Acc: 0.9835, F1: 0.9628\n",
      "  📊 Validation - Loss: 1.7901, Acc: 0.8944, F1: 0.0039\n",
      "  📦 Processed  - Train: 8768 samples, Val: 9596 samples\n",
      "\n",
      "================================================================================\n",
      "Epoch [3/100]\n",
      "================================================================================\n",
      "\n"
     ]
    },
    {
     "name": "stderr",
     "output_type": "stream",
     "text": [
      "Epoch 3 Training: 100%|██████████| 137/137 [01:11<00:00,  1.91it/s, loss=0.0774]\n",
      "Validating: 100%|██████████| 75/75 [01:00<00:00,  1.24it/s]\n"
     ]
    },
    {
     "name": "stdout",
     "output_type": "stream",
     "text": [
      "\n",
      "Epoch [3] Summary:\n",
      "  🎯 Learning Rate: 5.00e-05\n",
      "  📈 Training   - Loss: 0.0260, Acc: 0.9933, F1: 0.9849\n",
      "  📊 Validation - Loss: 1.5773, Acc: 0.8873, F1: 0.0391\n",
      "  📦 Processed  - Train: 8768 samples, Val: 9596 samples\n",
      "\n",
      "================================================================================\n",
      "Epoch [4/100]\n",
      "================================================================================\n",
      "\n"
     ]
    },
    {
     "name": "stderr",
     "output_type": "stream",
     "text": [
      "Epoch 4 Training: 100%|██████████| 137/137 [01:11<00:00,  1.91it/s, loss=0.0361]\n",
      "Validating: 100%|██████████| 75/75 [00:59<00:00,  1.26it/s]\n"
     ]
    },
    {
     "name": "stdout",
     "output_type": "stream",
     "text": [
      "\n",
      "Epoch [4] Summary:\n",
      "  🎯 Learning Rate: 5.00e-05\n",
      "  📈 Training   - Loss: 0.0167, Acc: 0.9958, F1: 0.9905\n",
      "  📊 Validation - Loss: 2.4979, Acc: 0.8946, F1: 0.0000\n",
      "  📦 Processed  - Train: 8768 samples, Val: 9596 samples\n",
      "\n",
      "================================================================================\n",
      "Epoch [5/100]\n",
      "================================================================================\n",
      "\n"
     ]
    },
    {
     "name": "stderr",
     "output_type": "stream",
     "text": [
      "Epoch 5 Training: 100%|██████████| 137/137 [01:08<00:00,  2.01it/s, loss=0.0029]\n",
      "Validating: 100%|██████████| 75/75 [01:00<00:00,  1.25it/s]\n"
     ]
    },
    {
     "name": "stdout",
     "output_type": "stream",
     "text": [
      "\n",
      "Epoch [5] Summary:\n",
      "  🎯 Learning Rate: 2.50e-05\n",
      "  📈 Training   - Loss: 0.0154, Acc: 0.9956, F1: 0.9900\n",
      "  📊 Validation - Loss: 2.4833, Acc: 0.8946, F1: 0.0000\n",
      "  📦 Processed  - Train: 8768 samples, Val: 9596 samples\n",
      "\n",
      "================================================================================\n",
      "Epoch [6/100]\n",
      "================================================================================\n",
      "\n"
     ]
    },
    {
     "name": "stderr",
     "output_type": "stream",
     "text": [
      "Epoch 6 Training: 100%|██████████| 137/137 [01:10<00:00,  1.93it/s, loss=0.0065]\n",
      "Validating: 100%|██████████| 75/75 [01:01<00:00,  1.23it/s]"
     ]
    },
    {
     "name": "stdout",
     "output_type": "stream",
     "text": [
      "\n",
      "Epoch [6] Summary:\n",
      "  🎯 Learning Rate: 2.50e-05\n",
      "  📈 Training   - Loss: 0.0073, Acc: 0.9984, F1: 0.9964\n",
      "  📊 Validation - Loss: 2.3288, Acc: 0.8945, F1: 0.0000\n",
      "  📦 Processed  - Train: 8768 samples, Val: 9596 samples\n",
      "No improvement in F1 for 5 epochs, early stopping...\n",
      "\n",
      "🎉 Training complete in 13.22 min\n",
      "Best Validation F1: 0.2248\n"
     ]
    },
    {
     "name": "stderr",
     "output_type": "stream",
     "text": [
      "\n"
     ]
    }
   ],
   "source": [
    "import time\n",
    "from sklearn.metrics import accuracy_score, f1_score\n",
    "\n",
    "\n",
    "best_val_loss = float('inf')\n",
    "best_f1 = 0.0\n",
    "patience = 5\n",
    "patience_counter = 0\n",
    "training_losses = []\n",
    "validation_losses = []\n",
    "start_time = time.time()\n",
    "early_stop_counter  = 0\n",
    "\n",
    "print(\"Starting training...\\n\")\n",
    "\n",
    "for epoch in range(num_epochs):\n",
    "    model.train()\n",
    "    running_loss = 0.0\n",
    "    all_preds, all_labels = [], []\n",
    "\n",
    "    print(f'\\n{\"=\"*80}')\n",
    "    print(f'Epoch [{epoch+1}/{num_epochs}]')\n",
    "    print(f'{\"=\"*80}\\n')\n",
    "\n",
    "    train_loader = DataLoader(train_dataset, batch_size=64, shuffle=True)\n",
    "\n",
    "    progress_bar = tqdm(train_loader, desc=f\"Epoch {epoch+1} Training\")\n",
    "\n",
    "    for batch_X, batch_y in progress_bar:\n",
    "        batch_X = batch_X.to(device)\n",
    "        batch_y = batch_y.to(device)\n",
    "\n",
    "        # Forward\n",
    "        optimizer.zero_grad()\n",
    "        logits = model(batch_X).squeeze()\n",
    "        loss = criterion(logits, batch_y.float())\n",
    "\n",
    "        # Backward\n",
    "        loss.backward()\n",
    "        optimizer.step()\n",
    "\n",
    "        preds = (torch.sigmoid(logits) > threshold).long()\n",
    "        all_preds.extend(preds.cpu().numpy())\n",
    "        all_labels.extend(batch_y.cpu().numpy())\n",
    "\n",
    "        running_loss += loss.item()\n",
    "        progress_bar.set_postfix({'loss': f'{loss.item():.4f}'})\n",
    "\n",
    "    epoch_loss = running_loss / len(train_loader)\n",
    "    training_losses.append(epoch_loss)\n",
    "    \n",
    "    train_accuracy = accuracy_score(all_labels, all_preds)\n",
    "    train_f1 = f1_score(all_labels, all_preds)\n",
    "\n",
    "\n",
    "    model.eval()\n",
    "    val_loss, val_preds, val_labels = 0.0, [], []\n",
    "\n",
    "    with torch.no_grad():\n",
    "        for batch_X, batch_y in tqdm(devel_loader, desc=\"Validating\"):\n",
    "            batch_X = batch_X.to(device)\n",
    "            batch_y = batch_y.to(device)\n",
    "\n",
    "            logits = model(batch_X).squeeze()\n",
    "            loss = criterion(logits, batch_y.float())\n",
    "            val_loss += loss.item()\n",
    "\n",
    "            preds = (torch.sigmoid(logits) > threshold).long()\n",
    "            val_preds.extend(preds.cpu().numpy())\n",
    "            val_labels.extend(batch_y.cpu().numpy())\n",
    "\n",
    "    avg_val_loss = val_loss / len(devel_loader)\n",
    "    validation_losses.append(avg_val_loss)\n",
    "    \n",
    "    val_accuracy = accuracy_score(val_labels, val_preds)\n",
    "    val_f1 = f1_score(val_labels, val_preds)\n",
    "\n",
    "    scheduler.step(avg_val_loss)  \n",
    "\n",
    "    current_lr = optimizer.param_groups[0]['lr']\n",
    "\n",
    "    print(f\"\\nEpoch [{epoch+1}] Summary:\")\n",
    "    print(f\"  🎯 Learning Rate: {current_lr:.2e}\") \n",
    "\n",
    "    print(f\"  📈 Training   - Loss: {epoch_loss:.4f}, Acc: {train_accuracy:.4f}, F1: {train_f1:.4f}\")\n",
    "    print(f\"  📊 Validation - Loss: {avg_val_loss:.4f}, Acc: {val_accuracy:.4f}, F1: {val_f1:.4f}\")\n",
    "    print(f\"  📦 Processed  - Train: {len(all_labels)} samples, Val: {len(val_labels)} samples\")\n",
    "\n",
    "    if val_f1 > best_f1:\n",
    "        best_f1 = val_f1\n",
    "        early_stop_counter = 0\n",
    "        torch.save(model.state_dict(), \"best_sampler_model_2_newNN.pth\")\n",
    "        print(f\"🌟 New best F1: {best_f1:.4f}, saving model...\")\n",
    "    else:\n",
    "        early_stop_counter += 1\n",
    "        if early_stop_counter >= patience:\n",
    "            print(f\"No improvement in F1 for {patience} epochs, early stopping...\")\n",
    "            break\n",
    "\n",
    "print(f\"\\n🎉 Training complete in {(time.time() - start_time)/60:.2f} min\")\n",
    "print(f\"Best Validation F1: {best_f1:.4f}\")"
   ]
  },
  {
   "cell_type": "code",
   "execution_count": 12,
   "id": "c966def8",
   "metadata": {},
   "outputs": [
    {
     "name": "stdout",
     "output_type": "stream",
     "text": [
      "✅ Epochs completed: 6 / Defined: 100\n",
      "📁 Saved loss curve and CSV\n"
     ]
    },
    {
     "data": {
      "image/png": "[encoded data removed]",
      "text/plain": [
       "<Figure size 800x600 with 1 Axes>"
      ]
     },
     "metadata": {},
     "output_type": "display_data"
    }
   ],
   "source": [
    "import matplotlib.pyplot as plt\n",
    "import pandas as pd\n",
    "\n",
    "plt.figure(figsize=(8, 6))\n",
    "plt.plot(training_losses, label='Training Loss', color='crimson', marker='o', linewidth=2, markersize=6)\n",
    "plt.plot(validation_losses, label='Validation Loss', color='royalblue', marker='x', linewidth=2, markersize=6)\n",
    "\n",
    "plt.title('Cold Detection Training Curve', fontsize=14, pad=15)\n",
    "plt.xlabel('Epoch', fontsize=12, labelpad=10)\n",
    "plt.ylabel('Loss', fontsize=12, labelpad=10)\n",
    "plt.legend(frameon=True, fontsize=10)\n",
    "plt.grid(alpha=0.3)\n",
    "plt.tight_layout()\n",
    "\n",
    "print(f\"✅ Epochs completed: {len(training_losses)} / Defined: {num_epochs}\")\n",
    "\n",
    "loss_df = pd.DataFrame({\n",
    "    \"epoch\": list(range(1, len(training_losses) + 1)),\n",
    "    \"training_loss\": training_losses,\n",
    "    \"validation_loss\": validation_losses\n",
    "})\n",
    "loss_df.to_csv(\"cold_training_loss.csv\", index=False)\n",
    "print(\"📁 Saved loss curve and CSV\")"
   ]
  },
  {
   "cell_type": "code",
   "execution_count": 13,
   "id": "611bad91",
   "metadata": {},
   "outputs": [
    {
     "name": "stdout",
     "output_type": "stream",
     "text": [
      "Validation UAR: 0.5005\n",
      "Class 0 (Healthy) Recall: 1.0000\n",
      "Class 1 (Cold) Recall: 0.0010\n"
     ]
    }
   ],
   "source": [
    "from sklearn.metrics import recall_score\n",
    "val_preds = []\n",
    "val_labels = []\n",
    "val_probs = []\n",
    "model.eval()\n",
    "with torch.no_grad():\n",
    "    for X, y in devel_loader:\n",
    "        logits = model(X.to(device)).squeeze()\n",
    "        probs = torch.sigmoid(logits)\n",
    "        preds = (probs > 0.7).long()\n",
    "        val_probs.extend(probs.cpu().numpy())\n",
    "        val_preds.extend(preds.cpu().numpy())\n",
    "        val_labels.extend(y.numpy())\n",
    "\n",
    "\n",
    "uar = recall_score(val_labels, val_preds, average='macro')\n",
    "print(f\"Validation UAR: {uar:.4f}\")\n",
    "\n",
    "if len(set(val_labels)) > 1 and len(set(val_preds)) > 1:\n",
    "    class_recalls = recall_score(val_labels, val_preds, average=None)\n",
    "    print(f\"Class 0 (Healthy) Recall: {class_recalls[0]:.4f}\")\n",
    "    print(f\"Class 1 (Cold) Recall: {class_recalls[1]:.4f}\")"
   ]
  },
  {
   "cell_type": "code",
   "execution_count": 14,
   "id": "62b63d7f",
   "metadata": {},
   "outputs": [
    {
     "name": "stdout",
     "output_type": "stream",
     "text": [
      "预测分布: {np.int64(0): 9595, np.int64(1): 1}\n",
      "真实标签分布: {np.int64(0): 8585, np.int64(1): 1011}\n"
     ]
    },
    {
     "data": {
      "image/png": "[encoded data removed]",
      "text/plain": [
       "<Figure size 1000x400 with 2 Axes>"
      ]
     },
     "metadata": {},
     "output_type": "display_data"
    },
    {
     "name": "stdout",
     "output_type": "stream",
     "text": [
      "\n",
      "总样本数: 9596\n",
      "预测为Healthy: 9595 (100.0%)\n",
      "预测为Cold: 1 (0.0%)\n",
      "实际Healthy: 8585 (89.5%)\n",
      "实际Cold: 1011 (10.5%)\n"
     ]
    }
   ],
   "source": [
    "import matplotlib.pyplot as plt\n",
    "from collections import Counter\n",
    "\n",
    "pred_counts = Counter(val_preds)\n",
    "label_counts = Counter(val_labels)\n",
    "\n",
    "print(f\"预测分布: {dict(pred_counts)}\")\n",
    "print(f\"真实标签分布: {dict(label_counts)}\")\n",
    "\n",
    "fig, (ax1, ax2) = plt.subplots(1, 2, figsize=(10, 4))\n",
    "\n",
    "categories = ['Healthy (0)', 'Cold (1)']\n",
    "pred_values = [pred_counts.get(0, 0), pred_counts.get(1, 0)]\n",
    "ax1.bar(categories, pred_values, color=['lightblue', 'lightcoral'], alpha=0.7)\n",
    "ax1.set_title('Predictions Distribution')\n",
    "ax1.set_ylabel('Count')\n",
    "for i, v in enumerate(pred_values):\n",
    "    ax1.text(i, v + max(pred_values)*0.01, str(v), ha='center')\n",
    "\n",
    "label_values = [label_counts.get(0, 0), label_counts.get(1, 0)]\n",
    "ax2.bar(categories, label_values, color=['lightblue', 'lightcoral'], alpha=0.7)\n",
    "ax2.set_title('True Labels Distribution')\n",
    "ax2.set_ylabel('Count')\n",
    "for i, v in enumerate(label_values):\n",
    "    ax2.text(i, v + max(label_values)*0.01, str(v), ha='center')\n",
    "\n",
    "plt.tight_layout()\n",
    "plt.show()\n",
    "\n",
    "total = len(val_preds)\n",
    "print(f\"\\n总样本数: {total}\")\n",
    "print(f\"预测为Healthy: {pred_counts.get(0, 0)} ({pred_counts.get(0, 0)/total:.1%})\")\n",
    "print(f\"预测为Cold: {pred_counts.get(1, 0)} ({pred_counts.get(1, 0)/total:.1%})\")\n",
    "print(f\"实际Healthy: {label_counts.get(0, 0)} ({label_counts.get(0, 0)/total:.1%})\")  \n",
    "print(f\"实际Cold: {label_counts.get(1, 0)} ({label_counts.get(1, 0)/total:.1%})\")"
   ]
  },
  {
   "cell_type": "code",
   "execution_count": 15,
   "id": "e74f1fc5",
   "metadata": {},
   "outputs": [
    {
     "data": {
      "image/png": "[encoded data removed]",
      "text/plain": [
       "<Figure size 1200x400 with 4 Axes>"
      ]
     },
     "metadata": {},
     "output_type": "display_data"
    },
    {
     "name": "stdout",
     "output_type": "stream",
     "text": [
      "========================================\n",
      "概率分布统计:\n",
      "========================================\n",
      "平均概率: 0.0007\n",
      "概率标准差: 0.0129\n",
      "最小概率: 0.0000\n",
      "最大概率: 0.7907\n",
      "\n",
      "Healthy样本平均概率: 0.0004\n",
      "Cold样本平均概率: 0.0028\n"
     ]
    }
   ],
   "source": [
    "import matplotlib.pyplot as plt\n",
    "import numpy as np\n",
    "\n",
    "val_probs = np.array(val_probs)\n",
    "val_labels = np.array(val_labels)\n",
    "\n",
    "plt.figure(figsize=(12, 4))\n",
    "\n",
    "plt.subplot(1, 3, 1)\n",
    "plt.hist(val_probs, bins=30, alpha=0.7, color='skyblue', edgecolor='black')\n",
    "plt.title('All Predictions Probability Distribution')\n",
    "plt.xlabel('Probability')\n",
    "plt.ylabel('Count')\n",
    "\n",
    "plt.subplot(1, 3, 2)\n",
    "healthy_probs = val_probs[val_labels == 0]\n",
    "cold_probs = val_probs[val_labels == 1]\n",
    "\n",
    "plt.hist(healthy_probs, bins=20, alpha=0.6, label='Healthy (True)', color='lightblue')\n",
    "plt.hist(cold_probs, bins=20, alpha=0.6, label='Cold (True)', color='lightcoral')\n",
    "plt.title('Probability by True Label')\n",
    "plt.xlabel('Probability')\n",
    "plt.ylabel('Count')\n",
    "plt.legend()\n",
    "\n",
    "plt.subplot(1, 3, 3)\n",
    "plt.scatter(range(len(val_probs)), val_probs, c=val_labels, \n",
    "           cmap='RdYlBu', alpha=0.6, s=10)\n",
    "plt.axhline(y=0.5, color='red', linestyle='--', alpha=0.7)\n",
    "plt.title('Predictions vs True Labels')\n",
    "plt.xlabel('Sample Index')\n",
    "plt.ylabel('Probability')\n",
    "plt.colorbar(label='True Label')\n",
    "\n",
    "plt.tight_layout()\n",
    "plt.show()\n",
    "\n",
    "\n",
    "print(\"=\" * 40)\n",
    "print(\"概率分布统计:\")\n",
    "print(\"=\" * 40)\n",
    "print(f\"平均概率: {val_probs.mean():.4f}\")\n",
    "print(f\"概率标准差: {val_probs.std():.4f}\")\n",
    "print(f\"最小概率: {val_probs.min():.4f}\")\n",
    "print(f\"最大概率: {val_probs.max():.4f}\")\n",
    "\n",
    "print(f\"\\nHealthy样本平均概率: {healthy_probs.mean():.4f}\")\n",
    "print(f\"Cold样本平均概率: {cold_probs.mean():.4f}\")"
   ]
  },
  {
   "cell_type": "code",
   "execution_count": 16,
   "id": "3bd598e3",
   "metadata": {},
   "outputs": [
    {
     "name": "stdout",
     "output_type": "stream",
     "text": [
      "🎯 Threshold optimization using UAR:\n",
      "--------------------------------------------------\n",
      "🏆 Best Threshold = 0.13\n",
      "📊 UAR = 0.501\n"
     ]
    }
   ],
   "source": [
    "import numpy as np\n",
    "from sklearn.metrics import f1_score, recall_score\n",
    "\n",
    "probs = []   \n",
    "labels = []\n",
    "\n",
    "model.eval()\n",
    "with torch.no_grad():\n",
    "    for X, y in devel_loader:\n",
    "        logits = model(X.to(device)).squeeze()\n",
    "        p = torch.sigmoid(logits).cpu().numpy()\n",
    "        probs.extend(p)\n",
    "        labels.extend(y.numpy())\n",
    "\n",
    "probs = np.array(probs)\n",
    "labels = np.array(labels)\n",
    "\n",
    "best_t, best_uar = 0.5, 0\n",
    "best_f1 = 0\n",
    "\n",
    "print(\"🎯 Threshold optimization using UAR:\")\n",
    "print(\"-\" * 50)\n",
    "\n",
    "for t in np.linspace(0.1, 0.9, 81):\n",
    "    preds = (probs > t).astype(int)\n",
    "    \n",
    "    uar = recall_score(labels, preds, average='macro')\n",
    "    f1 = f1_score(labels, preds)\n",
    "    \n",
    "    if uar > best_uar:\n",
    "        best_uar = uar\n",
    "        best_t = t\n",
    "        best_f1 = f1\n",
    "\n",
    "print(f\"🏆 Best Threshold = {best_t:.2f}\")\n",
    "print(f\"📊 UAR = {best_uar:.3f}\")\n"
   ]
  },
  {
   "cell_type": "markdown",
   "id": "c8fc77fc",
   "metadata": {},
   "source": [
    "## Test "
   ]
  },
  {
   "cell_type": "code",
   "execution_count": 17,
   "id": "f186fff4",
   "metadata": {},
   "outputs": [
    {
     "name": "stderr",
     "output_type": "stream",
     "text": [
      "Testing: 100%|█████████████████████████████████████████████| 9596/9596 [02:12<00:00, 72.57samples/s]\n"
     ]
    }
   ],
   "source": [
    "model.eval()\n",
    "\n",
    "test_preds = []\n",
    "test_labels = []\n",
    "\n",
    "threshold = best_t\n",
    "\n",
    "with torch.no_grad():\n",
    "    with tqdm(total=len(test_loader.dataset),\n",
    "              desc=\"Testing\",\n",
    "              unit=\"samples\",\n",
    "              ncols=100) as progress_bar:\n",
    "        for batch_X, batch_y in test_loader:\n",
    "            batch_X = batch_X.to(device)\n",
    "            batch_y = batch_y.to(device)\n",
    "\n",
    "            logits = model(batch_X).squeeze() \n",
    "            probs = torch.sigmoid(logits)\n",
    "            preds = (probs > threshold).long()\n",
    "\n",
    "            test_preds.extend(preds.cpu().tolist())\n",
    "            test_labels.extend(batch_y.cpu().tolist())\n",
    "\n",
    "            progress_bar.update(batch_X.size(0))\n",
    "\n"
   ]
  },
  {
   "cell_type": "code",
   "execution_count": 18,
   "id": "3d96ba3f",
   "metadata": {},
   "outputs": [
    {
     "name": "stdout",
     "output_type": "stream",
     "text": [
      "\n",
      "📈 PERFORMANCE METRICS:\n",
      "   F1 Score: 0.0000\n",
      "   UAR (Unweighted Average Recall): 0.5011\n",
      "\n",
      "🎯 PER-CLASS RECALL:\n",
      "   Class 0 (Healthy): 0.9992\n",
      "   Class 1 (Cold): 0.0030\n",
      "\n",
      "✅ UAR Verification:\n",
      "   sklearn UAR: 0.5011\n",
      "   Manual UAR:  0.5011\n",
      "   Match: ✓\n"
     ]
    }
   ],
   "source": [
    "from sklearn.metrics import classification_report, confusion_matrix, recall_score\n",
    "import numpy as np\n",
    "\n",
    "uar = recall_score(test_labels, test_preds, average='macro')\n",
    "\n",
    "print(f\"\\n📈 PERFORMANCE METRICS:\")\n",
    "print(f\"   F1 Score: {f1:.4f}\")\n",
    "print(f\"   UAR (Unweighted Average Recall): {uar:.4f}\")\n",
    "\n",
    "if len(set(test_labels)) > 1 and len(set(test_preds)) > 1:\n",
    "    cm = confusion_matrix(test_labels, test_preds)\n",
    "    \n",
    "    class_recalls = []\n",
    "    for i in range(len(cm)):\n",
    "        if cm[i].sum() > 0:  \n",
    "            recall = cm[i, i] / cm[i].sum()\n",
    "            class_recalls.append(recall)\n",
    "        else:\n",
    "            class_recalls.append(0.0)\n",
    "    \n",
    "    print(f\"\\n🎯 PER-CLASS RECALL:\")\n",
    "    class_names = ['Healthy', 'Cold']\n",
    "    for i, (name, recall) in enumerate(zip(class_names, class_recalls)):\n",
    "        print(f\"   Class {i} ({name}): {recall:.4f}\")\n",
    "    \n",
    "    manual_uar = np.mean(class_recalls)\n",
    "    print(f\"\\n✅ UAR Verification:\")\n",
    "    print(f\"   sklearn UAR: {uar:.4f}\")\n",
    "    print(f\"   Manual UAR:  {manual_uar:.4f}\")\n",
    "    print(f\"   Match: {'✓' if abs(uar - manual_uar) < 0.0001 else '✗'}\")"
   ]
  }
 ],
 "metadata": {
  "kernelspec": {
   "display_name": "Python 3",
   "language": "python",
   "name": "python3"
  },
  "language_info": {
   "codemirror_mode": {
    "name": "ipython",
    "version": 3
   },
   "file_extension": ".py",
   "mimetype": "text/x-python",
   "name": "python",
   "nbconvert_exporter": "python",
   "pygments_lexer": "ipython3",
   "version": "3.12.2"
  }
 },
 "nbformat": 4,
 "nbformat_minor": 5
}
